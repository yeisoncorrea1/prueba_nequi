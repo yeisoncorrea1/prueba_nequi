{
 "cells": [
  {
   "cell_type": "code",
   "execution_count": 1,
   "metadata": {},
   "outputs": [],
   "source": [
    "import pandas as pd\n",
    "\n",
    "\n"
   ]
  },
  {
   "cell_type": "code",
   "execution_count": 12,
   "metadata": {},
   "outputs": [
    {
     "data": {
      "text/html": [
       "<div>\n",
       "<style scoped>\n",
       "    .dataframe tbody tr th:only-of-type {\n",
       "        vertical-align: middle;\n",
       "    }\n",
       "\n",
       "    .dataframe tbody tr th {\n",
       "        vertical-align: top;\n",
       "    }\n",
       "\n",
       "    .dataframe thead th {\n",
       "        text-align: right;\n",
       "    }\n",
       "</style>\n",
       "<table border=\"1\" class=\"dataframe\">\n",
       "  <thead>\n",
       "    <tr style=\"text-align: right;\">\n",
       "      <th></th>\n",
       "      <th>merchant_id</th>\n",
       "      <th>_id</th>\n",
       "      <th>subsidiary</th>\n",
       "      <th>transaction_date</th>\n",
       "      <th>account_number</th>\n",
       "      <th>user_id</th>\n",
       "      <th>transaction_amount</th>\n",
       "      <th>transaction_type</th>\n",
       "    </tr>\n",
       "  </thead>\n",
       "  <tbody>\n",
       "    <tr>\n",
       "      <th>0</th>\n",
       "      <td>075d178871d8d48502bf1f54887e52fe</td>\n",
       "      <td>b69a8ad1a8280b8e6f0bd38b4cce8a4a</td>\n",
       "      <td>a8bd47b85e2b946052d816b208b3f0a4</td>\n",
       "      <td>2021-06-28 16:26:07</td>\n",
       "      <td>cb8cc7fef9d4410878603dad13f54cf5</td>\n",
       "      <td>ba11d753ac9444bc5f03fbd9fd98d923</td>\n",
       "      <td>594.445501</td>\n",
       "      <td>DEBITO</td>\n",
       "    </tr>\n",
       "    <tr>\n",
       "      <th>1</th>\n",
       "      <td>817d18cd3c31e40e9bff0566baae7758</td>\n",
       "      <td>650dcc8f0c905205f35b65d7ac5998b2</td>\n",
       "      <td>540c5783008d512771471e186f77d9be</td>\n",
       "      <td>2021-10-14 18:12:15</td>\n",
       "      <td>344adb90dd50281461e4429b69ce6eb3</td>\n",
       "      <td>4968649a6a6db0989e193923c1436c09</td>\n",
       "      <td>118.889100</td>\n",
       "      <td>DEBITO</td>\n",
       "    </tr>\n",
       "    <tr>\n",
       "      <th>2</th>\n",
       "      <td>817d18cd3c31e40e9bff0566baae7758</td>\n",
       "      <td>87be795748f41e4a4a97d783ce1f14cf</td>\n",
       "      <td>e3a9434b7e145d952d296cb255055b0f</td>\n",
       "      <td>2021-04-06 15:21:37</td>\n",
       "      <td>22cd1818eb77a5f0e25aacbfde8b24bf</td>\n",
       "      <td>15325b33069a73ac4ee0f6bf5e30d6fb</td>\n",
       "      <td>356.667301</td>\n",
       "      <td>DEBITO</td>\n",
       "    </tr>\n",
       "    <tr>\n",
       "      <th>3</th>\n",
       "      <td>838a8fa992a4aa2fb5a0cf8b15b63755</td>\n",
       "      <td>d99542642ab30f13a7676c46b423ea22</td>\n",
       "      <td>207693b4bb0a84615b2a4f002a483b0a</td>\n",
       "      <td>2021-08-16 14:59:33</td>\n",
       "      <td>ea9122c8693053dea289a414caab5521</td>\n",
       "      <td>96e95977ba74cd6a2d0cf76bb6a9b3b5</td>\n",
       "      <td>271.867272</td>\n",
       "      <td>CREDITO</td>\n",
       "    </tr>\n",
       "    <tr>\n",
       "      <th>4</th>\n",
       "      <td>817d18cd3c31e40e9bff0566baae7758</td>\n",
       "      <td>be7fd6155c65aeb95df167bf07dffd90</td>\n",
       "      <td>855e9baef9ba84ed74598c5a7de076d7</td>\n",
       "      <td>2021-09-17 20:39:45</td>\n",
       "      <td>22a07e37f9b02910126f702115884931</td>\n",
       "      <td>8b933efcc209a3269003ec7975b8a9a5</td>\n",
       "      <td>59.444550</td>\n",
       "      <td>DEBITO</td>\n",
       "    </tr>\n",
       "  </tbody>\n",
       "</table>\n",
       "</div>"
      ],
      "text/plain": [
       "                        merchant_id                               _id  \\\n",
       "0  075d178871d8d48502bf1f54887e52fe  b69a8ad1a8280b8e6f0bd38b4cce8a4a   \n",
       "1  817d18cd3c31e40e9bff0566baae7758  650dcc8f0c905205f35b65d7ac5998b2   \n",
       "2  817d18cd3c31e40e9bff0566baae7758  87be795748f41e4a4a97d783ce1f14cf   \n",
       "3  838a8fa992a4aa2fb5a0cf8b15b63755  d99542642ab30f13a7676c46b423ea22   \n",
       "4  817d18cd3c31e40e9bff0566baae7758  be7fd6155c65aeb95df167bf07dffd90   \n",
       "\n",
       "                         subsidiary     transaction_date  \\\n",
       "0  a8bd47b85e2b946052d816b208b3f0a4  2021-06-28 16:26:07   \n",
       "1  540c5783008d512771471e186f77d9be  2021-10-14 18:12:15   \n",
       "2  e3a9434b7e145d952d296cb255055b0f  2021-04-06 15:21:37   \n",
       "3  207693b4bb0a84615b2a4f002a483b0a  2021-08-16 14:59:33   \n",
       "4  855e9baef9ba84ed74598c5a7de076d7  2021-09-17 20:39:45   \n",
       "\n",
       "                     account_number                           user_id  \\\n",
       "0  cb8cc7fef9d4410878603dad13f54cf5  ba11d753ac9444bc5f03fbd9fd98d923   \n",
       "1  344adb90dd50281461e4429b69ce6eb3  4968649a6a6db0989e193923c1436c09   \n",
       "2  22cd1818eb77a5f0e25aacbfde8b24bf  15325b33069a73ac4ee0f6bf5e30d6fb   \n",
       "3  ea9122c8693053dea289a414caab5521  96e95977ba74cd6a2d0cf76bb6a9b3b5   \n",
       "4  22a07e37f9b02910126f702115884931  8b933efcc209a3269003ec7975b8a9a5   \n",
       "\n",
       "   transaction_amount transaction_type  \n",
       "0          594.445501           DEBITO  \n",
       "1          118.889100           DEBITO  \n",
       "2          356.667301           DEBITO  \n",
       "3          271.867272          CREDITO  \n",
       "4           59.444550           DEBITO  "
      ]
     },
     "execution_count": 12,
     "metadata": {},
     "output_type": "execute_result"
    }
   ],
   "source": [
    "data = pd.read_csv('data.csv')\n",
    "data.head()"
   ]
  },
  {
   "cell_type": "code",
   "execution_count": 43,
   "metadata": {},
   "outputs": [],
   "source": [
    "# Convertir las fechas a formato datetime\n",
    "data['transaction_date'] = pd.to_datetime(data['transaction_date'], format='%Y-%m-%d')"
   ]
  },
  {
   "cell_type": "code",
   "execution_count": 44,
   "metadata": {},
   "outputs": [
    {
     "name": "stderr",
     "output_type": "stream",
     "text": [
      "C:\\Users\\yeiso\\AppData\\Local\\Temp\\ipykernel_12048\\571115039.py:2: DeprecationWarning: DataFrameGroupBy.apply operated on the grouping columns. This behavior is deprecated, and in a future version of pandas the grouping columns will be excluded from the operation. Either pass `include_groups=False` to exclude the groupings or explicitly select the grouping columns after groupby to silence this warning.\n",
      "  windowed_data = data.groupby(['account_number', 'user_id']).apply(\n"
     ]
    }
   ],
   "source": [
    "# Paso 1: Agrupar transacciones en ventanas de 24 horas por cuenta\n",
    "windowed_data = data.groupby(['account_number', 'user_id']).apply(\n",
    "    lambda group: group.sort_values('transaction_date')\n",
    ").reset_index(drop=True)"
   ]
  },
  {
   "cell_type": "code",
   "execution_count": 45,
   "metadata": {},
   "outputs": [],
   "source": [
    "# Paso 2: Calcular métricas dentro de las ventanas de 24 horas\n",
    "def detect_transaction_fraud(group):\n",
    "    group = group.sort_values('transaction_date')\n",
    "    group['time_diff'] = group['transaction_date'].diff().dt.total_seconds() / 3600  # Diferencia en horas\n",
    "\n",
    "    # Identificar transacciones en la misma ventana de tiempo (24 horas)\n",
    "    group['window_id'] = (group['time_diff'] > 24).cumsum()\n",
    "\n",
    "    # Agrupar por ventana de tiempo\n",
    "    summary = group.groupby('window_id').agg(\n",
    "        total_amount=('transaction_amount', 'sum'),\n",
    "        transaction_count=('transaction_amount', 'count')\n",
    "    ).reset_index()\n",
    "\n",
    "    # Identificar ventanas sospechosas\n",
    "    summary['is_suspicious'] = (summary['transaction_count'] > 1) & (summary['total_amount'] > group['transaction_amount'].max())\n",
    "\n",
    "    group = group.merge(summary[['window_id', 'is_suspicious']], on='window_id', how='left')\n",
    "    return group"
   ]
  },
  {
   "cell_type": "code",
   "execution_count": 46,
   "metadata": {},
   "outputs": [
    {
     "name": "stderr",
     "output_type": "stream",
     "text": [
      "C:\\Users\\yeiso\\AppData\\Local\\Temp\\ipykernel_12048\\2896818477.py:2: DeprecationWarning: DataFrameGroupBy.apply operated on the grouping columns. This behavior is deprecated, and in a future version of pandas the grouping columns will be excluded from the operation. Either pass `include_groups=False` to exclude the groupings or explicitly select the grouping columns after groupby to silence this warning.\n",
      "  processed_data = windowed_data.groupby('account_number').apply(detect_transaction_fraud).reset_index(drop=True)\n"
     ]
    }
   ],
   "source": [
    "# Aplicar la función\n",
    "processed_data = windowed_data.groupby('account_number').apply(detect_transaction_fraud).reset_index(drop=True)"
   ]
  },
  {
   "cell_type": "code",
   "execution_count": 47,
   "metadata": {},
   "outputs": [],
   "source": [
    "# Paso 3: Marcar transacciones sospechosas\n",
    "processed_data['fraud_flag'] = processed_data['is_suspicious'].fillna(False).astype(int)"
   ]
  },
  {
   "cell_type": "code",
   "execution_count": 64,
   "metadata": {},
   "outputs": [
    {
     "data": {
      "text/plain": [
       "(117, 12)"
      ]
     },
     "execution_count": 64,
     "metadata": {},
     "output_type": "execute_result"
    }
   ],
   "source": [
    "processed_data[processed_data['fraud_flag']>0].shape"
   ]
  },
  {
   "cell_type": "code",
   "execution_count": null,
   "metadata": {},
   "outputs": [],
   "source": [
    "# Paso 4: Guardar resultados\n",
    "processed_data.to_csv('processed_data.csv', index=False)"
   ]
  },
  {
   "cell_type": "code",
   "execution_count": 63,
   "metadata": {},
   "outputs": [
    {
     "data": {
      "text/plain": [
       "(21516, 12)"
      ]
     },
     "execution_count": 63,
     "metadata": {},
     "output_type": "execute_result"
    }
   ],
   "source": [
    "processed_data.shape"
   ]
  },
  {
   "cell_type": "code",
   "execution_count": null,
   "metadata": {},
   "outputs": [],
   "source": []
  },
  {
   "cell_type": "code",
   "execution_count": null,
   "metadata": {},
   "outputs": [],
   "source": [
    "s, def"
   ]
  },
  {
   "cell_type": "code",
   "execution_count": 55,
   "metadata": {},
   "outputs": [],
   "source": [
    "import pandas as pd\n",
    "import numpy as np\n",
    "from datetime import datetime, timedelta\n",
    "import matplotlib.pyplot as plt\n",
    "import seaborn as sns\n"
   ]
  },
  {
   "cell_type": "code",
   "execution_count": 52,
   "metadata": {},
   "outputs": [
    {
     "name": "stdout",
     "output_type": "stream",
     "text": [
      "                              merchant_id                               _id  \\\n",
      "1081054  075d178871d8d48502bf1f54887e52fe  b69a8ad1a8280b8e6f0bd38b4cce8a4a   \n",
      "2471502  817d18cd3c31e40e9bff0566baae7758  650dcc8f0c905205f35b65d7ac5998b2   \n",
      "6868479  817d18cd3c31e40e9bff0566baae7758  87be795748f41e4a4a97d783ce1f14cf   \n",
      "9424293  838a8fa992a4aa2fb5a0cf8b15b63755  d99542642ab30f13a7676c46b423ea22   \n",
      "6613222  817d18cd3c31e40e9bff0566baae7758  be7fd6155c65aeb95df167bf07dffd90   \n",
      "\n",
      "                               subsidiary    transaction_date  \\\n",
      "1081054  a8bd47b85e2b946052d816b208b3f0a4 2021-06-28 16:26:07   \n",
      "2471502  540c5783008d512771471e186f77d9be 2021-10-14 18:12:15   \n",
      "6868479  e3a9434b7e145d952d296cb255055b0f 2021-04-06 15:21:37   \n",
      "9424293  207693b4bb0a84615b2a4f002a483b0a 2021-08-16 14:59:33   \n",
      "6613222  855e9baef9ba84ed74598c5a7de076d7 2021-09-17 20:39:45   \n",
      "\n",
      "                           account_number                           user_id  \\\n",
      "1081054  cb8cc7fef9d4410878603dad13f54cf5  ba11d753ac9444bc5f03fbd9fd98d923   \n",
      "2471502  344adb90dd50281461e4429b69ce6eb3  4968649a6a6db0989e193923c1436c09   \n",
      "6868479  22cd1818eb77a5f0e25aacbfde8b24bf  15325b33069a73ac4ee0f6bf5e30d6fb   \n",
      "9424293  ea9122c8693053dea289a414caab5521  96e95977ba74cd6a2d0cf76bb6a9b3b5   \n",
      "6613222  22a07e37f9b02910126f702115884931  8b933efcc209a3269003ec7975b8a9a5   \n",
      "\n",
      "        transaction_amount transaction_type                          group_id  \n",
      "1081054       594.44550123           DEBITO  ba11d753ac9444bc5f03fbd9fd98d923  \n",
      "2471502       118.88910024           DEBITO  4968649a6a6db0989e193923c1436c09  \n",
      "6868479       356.66730074           DEBITO  15325b33069a73ac4ee0f6bf5e30d6fb  \n",
      "9424293       271.86727220          CREDITO  96e95977ba74cd6a2d0cf76bb6a9b3b5  \n",
      "6613222        59.44455012           DEBITO  8b933efcc209a3269003ec7975b8a9a5  \n"
     ]
    }
   ],
   "source": [
    "# Cargar datos\n",
    "df = data\n",
    "\n",
    "# Convertir la columna transaction_date a datetime\n",
    "df['transaction_date'] = pd.to_datetime(df['transaction_date'])\n",
    "\n",
    "\n",
    "# Eliminar duplicados, si los hay\n",
    "df = df.drop_duplicates()\n"
   ]
  },
  {
   "cell_type": "code",
   "execution_count": 57,
   "metadata": {},
   "outputs": [
    {
     "data": {
      "text/html": [
       "<div>\n",
       "<style scoped>\n",
       "    .dataframe tbody tr th:only-of-type {\n",
       "        vertical-align: middle;\n",
       "    }\n",
       "\n",
       "    .dataframe tbody tr th {\n",
       "        vertical-align: top;\n",
       "    }\n",
       "\n",
       "    .dataframe thead th {\n",
       "        text-align: right;\n",
       "    }\n",
       "</style>\n",
       "<table border=\"1\" class=\"dataframe\">\n",
       "  <thead>\n",
       "    <tr style=\"text-align: right;\">\n",
       "      <th></th>\n",
       "      <th>account_number</th>\n",
       "      <th>date_only</th>\n",
       "      <th>total_transaction_amount</th>\n",
       "      <th>transaction_count</th>\n",
       "    </tr>\n",
       "  </thead>\n",
       "  <tbody>\n",
       "    <tr>\n",
       "      <th>0</th>\n",
       "      <td>00010676f0dd636b3048712e88b46fe5</td>\n",
       "      <td>2021-07-17</td>\n",
       "      <td>332.889481</td>\n",
       "      <td>1</td>\n",
       "    </tr>\n",
       "    <tr>\n",
       "      <th>1</th>\n",
       "      <td>0001ecdff5702d9d03767b74069587c9</td>\n",
       "      <td>2021-02-06</td>\n",
       "      <td>166.444740</td>\n",
       "      <td>1</td>\n",
       "    </tr>\n",
       "    <tr>\n",
       "      <th>2</th>\n",
       "      <td>00074948864d50206de2ac84c8edb5af</td>\n",
       "      <td>2021-11-28</td>\n",
       "      <td>356.667301</td>\n",
       "      <td>1</td>\n",
       "    </tr>\n",
       "    <tr>\n",
       "      <th>3</th>\n",
       "      <td>000b778c0382b8ef2d0650bce981a610</td>\n",
       "      <td>2021-09-08</td>\n",
       "      <td>142.666920</td>\n",
       "      <td>1</td>\n",
       "    </tr>\n",
       "    <tr>\n",
       "      <th>4</th>\n",
       "      <td>000d762637197034a5661929579bedac</td>\n",
       "      <td>2021-11-09</td>\n",
       "      <td>475.556401</td>\n",
       "      <td>1</td>\n",
       "    </tr>\n",
       "  </tbody>\n",
       "</table>\n",
       "</div>"
      ],
      "text/plain": [
       "                     account_number   date_only  total_transaction_amount  \\\n",
       "0  00010676f0dd636b3048712e88b46fe5  2021-07-17                332.889481   \n",
       "1  0001ecdff5702d9d03767b74069587c9  2021-02-06                166.444740   \n",
       "2  00074948864d50206de2ac84c8edb5af  2021-11-28                356.667301   \n",
       "3  000b778c0382b8ef2d0650bce981a610  2021-09-08                142.666920   \n",
       "4  000d762637197034a5661929579bedac  2021-11-09                475.556401   \n",
       "\n",
       "   transaction_count  \n",
       "0                  1  \n",
       "1                  1  \n",
       "2                  1  \n",
       "3                  1  \n",
       "4                  1  "
      ]
     },
     "execution_count": 57,
     "metadata": {},
     "output_type": "execute_result"
    }
   ],
   "source": [
    "# Crear una columna para agrupar por cuenta y fecha\n",
    "df['date_only'] = df['transaction_date'].dt.date\n",
    "\n",
    "# Convertir los montos de transacciones a float \n",
    "df['transaction_amount'] = df['transaction_amount'].astype(float)\n",
    "\n",
    "# Agrupar por account_number y date_only, sumar transaction_amount\n",
    "agg_df = df.groupby(['account_number', 'date_only']).agg({\n",
    "    'transaction_amount': 'sum',\n",
    "    'transaction_date': 'count'}).reset_index()\n",
    "\n",
    "agg_df.columns = ['account_number', 'date_only', 'total_transaction_amount', 'transaction_count']\n",
    "\n",
    "agg_df.head()\n"
   ]
  },
  {
   "cell_type": "code",
   "execution_count": 58,
   "metadata": {},
   "outputs": [
    {
     "data": {
      "image/png": "[encoded data removed]",
      "text/plain": [
       "<Figure size 1000x600 with 1 Axes>"
      ]
     },
     "metadata": {},
     "output_type": "display_data"
    },
    {
     "name": "stdout",
     "output_type": "stream",
     "text": [
      "Media: 191.56214269075568\n",
      "Desviación Estándar: 242.55899421328505\n"
     ]
    }
   ],
   "source": [
    "# Visualizar la distribución de los montos de transacciones\n",
    "plt.figure(figsize=(10, 6))\n",
    "sns.histplot(agg_df['total_transaction_amount'], bins=50, kde=True)\n",
    "plt.title('Distribución de Montos de Transacciones por Cuenta y Fecha')\n",
    "plt.xlabel('Monto Total de las Transacciones')\n",
    "plt.ylabel('Frecuencia')\n",
    "plt.show()\n",
    "\n",
    "# Calcular estadísticas\n",
    "mean_amount = agg_df['total_transaction_amount'].mean()\n",
    "std_amount = agg_df['total_transaction_amount'].std()\n",
    "\n",
    "print(f\"Media: {mean_amount}\")\n",
    "print(f\"Desviación Estándar: {std_amount}\")\n"
   ]
  },
  {
   "cell_type": "code",
   "execution_count": 60,
   "metadata": {},
   "outputs": [
    {
     "data": {
      "text/html": [
       "<div>\n",
       "<style scoped>\n",
       "    .dataframe tbody tr th:only-of-type {\n",
       "        vertical-align: middle;\n",
       "    }\n",
       "\n",
       "    .dataframe tbody tr th {\n",
       "        vertical-align: top;\n",
       "    }\n",
       "\n",
       "    .dataframe thead th {\n",
       "        text-align: right;\n",
       "    }\n",
       "</style>\n",
       "<table border=\"1\" class=\"dataframe\">\n",
       "  <thead>\n",
       "    <tr style=\"text-align: right;\">\n",
       "      <th></th>\n",
       "      <th>account_number</th>\n",
       "      <th>date_only</th>\n",
       "      <th>total_transaction_amount</th>\n",
       "      <th>transaction_count</th>\n",
       "      <th>suspicious</th>\n",
       "    </tr>\n",
       "  </thead>\n",
       "  <tbody>\n",
       "    <tr>\n",
       "      <th>178</th>\n",
       "      <td>0230d3c7ffe956fbe8e5eaca27e9f85d</td>\n",
       "      <td>2021-04-30</td>\n",
       "      <td>1188.891002</td>\n",
       "      <td>1</td>\n",
       "      <td>True</td>\n",
       "    </tr>\n",
       "    <tr>\n",
       "      <th>203</th>\n",
       "      <td>02877f80702f0856bc682440e039b7bc</td>\n",
       "      <td>2021-09-11</td>\n",
       "      <td>1188.891002</td>\n",
       "      <td>1</td>\n",
       "      <td>True</td>\n",
       "    </tr>\n",
       "    <tr>\n",
       "      <th>270</th>\n",
       "      <td>035a402900a19897a8b87db2723ee15a</td>\n",
       "      <td>2021-08-21</td>\n",
       "      <td>951.112802</td>\n",
       "      <td>1</td>\n",
       "      <td>True</td>\n",
       "    </tr>\n",
       "    <tr>\n",
       "      <th>291</th>\n",
       "      <td>039e81dc62b547da63e0e928573effd3</td>\n",
       "      <td>2021-08-31</td>\n",
       "      <td>1188.891002</td>\n",
       "      <td>1</td>\n",
       "      <td>True</td>\n",
       "    </tr>\n",
       "    <tr>\n",
       "      <th>524</th>\n",
       "      <td>06b271c09a5ec83cc4e452bbb29f9c18</td>\n",
       "      <td>2021-06-26</td>\n",
       "      <td>1188.891002</td>\n",
       "      <td>1</td>\n",
       "      <td>True</td>\n",
       "    </tr>\n",
       "  </tbody>\n",
       "</table>\n",
       "</div>"
      ],
      "text/plain": [
       "                       account_number   date_only  total_transaction_amount  \\\n",
       "178  0230d3c7ffe956fbe8e5eaca27e9f85d  2021-04-30               1188.891002   \n",
       "203  02877f80702f0856bc682440e039b7bc  2021-09-11               1188.891002   \n",
       "270  035a402900a19897a8b87db2723ee15a  2021-08-21                951.112802   \n",
       "291  039e81dc62b547da63e0e928573effd3  2021-08-31               1188.891002   \n",
       "524  06b271c09a5ec83cc4e452bbb29f9c18  2021-06-26               1188.891002   \n",
       "\n",
       "     transaction_count  suspicious  \n",
       "178                  1        True  \n",
       "203                  1        True  \n",
       "270                  1        True  \n",
       "291                  1        True  \n",
       "524                  1        True  "
      ]
     },
     "execution_count": 60,
     "metadata": {},
     "output_type": "execute_result"
    }
   ],
   "source": [
    "# Definir el umbral como 3 desviaciones estándar por encima de la media\n",
    "threshold = mean_amount + 3 * std_amount\n",
    "\n",
    "# Identificar comportamientos sospechosos\n",
    "agg_df['suspicious'] = agg_df['total_transaction_amount'] > threshold\n",
    "\n",
    "# Filtrar transacciones sospechosas\n",
    "suspicious_transactions = agg_df[agg_df['suspicious'] == True]\n",
    "\n",
    "suspicious_transactions.head()"
   ]
  },
  {
   "cell_type": "code",
   "execution_count": 62,
   "metadata": {},
   "outputs": [
    {
     "data": {
      "text/plain": [
       "(346, 5)"
      ]
     },
     "execution_count": 62,
     "metadata": {},
     "output_type": "execute_result"
    }
   ],
   "source": [
    "suspicious_transactions.shape"
   ]
  },
  {
   "cell_type": "code",
   "execution_count": 65,
   "metadata": {},
   "outputs": [
    {
     "name": "stdout",
     "output_type": "stream",
     "text": [
      "<class 'pandas.core.frame.DataFrame'>\n",
      "Index: 21516 entries, 1081054 to 2879815\n",
      "Data columns (total 10 columns):\n",
      " #   Column              Non-Null Count  Dtype         \n",
      "---  ------              --------------  -----         \n",
      " 0   merchant_id         21516 non-null  object        \n",
      " 1   _id                 21516 non-null  object        \n",
      " 2   subsidiary          21516 non-null  object        \n",
      " 3   transaction_date    21516 non-null  datetime64[ns]\n",
      " 4   account_number      21516 non-null  object        \n",
      " 5   user_id             21516 non-null  object        \n",
      " 6   transaction_amount  21516 non-null  float64       \n",
      " 7   transaction_type    21516 non-null  object        \n",
      " 8   group_id            21516 non-null  object        \n",
      " 9   date_only           21516 non-null  object        \n",
      "dtypes: datetime64[ns](1), float64(1), object(8)\n",
      "memory usage: 1.8+ MB\n"
     ]
    },
    {
     "data": {
      "text/html": [
       "<div>\n",
       "<style scoped>\n",
       "    .dataframe tbody tr th:only-of-type {\n",
       "        vertical-align: middle;\n",
       "    }\n",
       "\n",
       "    .dataframe tbody tr th {\n",
       "        vertical-align: top;\n",
       "    }\n",
       "\n",
       "    .dataframe thead th {\n",
       "        text-align: right;\n",
       "    }\n",
       "</style>\n",
       "<table border=\"1\" class=\"dataframe\">\n",
       "  <thead>\n",
       "    <tr style=\"text-align: right;\">\n",
       "      <th></th>\n",
       "      <th>transaction_date</th>\n",
       "      <th>transaction_amount</th>\n",
       "    </tr>\n",
       "  </thead>\n",
       "  <tbody>\n",
       "    <tr>\n",
       "      <th>count</th>\n",
       "      <td>21516</td>\n",
       "      <td>21516.000000</td>\n",
       "    </tr>\n",
       "    <tr>\n",
       "      <th>mean</th>\n",
       "      <td>2021-06-25 11:41:13.779140864</td>\n",
       "      <td>191.223820</td>\n",
       "    </tr>\n",
       "    <tr>\n",
       "      <th>min</th>\n",
       "      <td>2021-01-01 09:34:40</td>\n",
       "      <td>5.944455</td>\n",
       "    </tr>\n",
       "    <tr>\n",
       "      <th>25%</th>\n",
       "      <td>2021-03-27 18:56:21.750000128</td>\n",
       "      <td>35.666730</td>\n",
       "    </tr>\n",
       "    <tr>\n",
       "      <th>50%</th>\n",
       "      <td>2021-07-02 15:26:47.500000</td>\n",
       "      <td>107.000190</td>\n",
       "    </tr>\n",
       "    <tr>\n",
       "      <th>75%</th>\n",
       "      <td>2021-09-21 16:50:02.500000</td>\n",
       "      <td>237.778200</td>\n",
       "    </tr>\n",
       "    <tr>\n",
       "      <th>max</th>\n",
       "      <td>2021-11-30 23:04:10</td>\n",
       "      <td>3210.005707</td>\n",
       "    </tr>\n",
       "    <tr>\n",
       "      <th>std</th>\n",
       "      <td>NaN</td>\n",
       "      <td>242.352323</td>\n",
       "    </tr>\n",
       "  </tbody>\n",
       "</table>\n",
       "</div>"
      ],
      "text/plain": [
       "                    transaction_date  transaction_amount\n",
       "count                          21516        21516.000000\n",
       "mean   2021-06-25 11:41:13.779140864          191.223820\n",
       "min              2021-01-01 09:34:40            5.944455\n",
       "25%    2021-03-27 18:56:21.750000128           35.666730\n",
       "50%       2021-07-02 15:26:47.500000          107.000190\n",
       "75%       2021-09-21 16:50:02.500000          237.778200\n",
       "max              2021-11-30 23:04:10         3210.005707\n",
       "std                              NaN          242.352323"
      ]
     },
     "execution_count": 65,
     "metadata": {},
     "output_type": "execute_result"
    }
   ],
   "source": [
    "# Resumir el dataset \n",
    "df.info() \n",
    "df.describe()"
   ]
  },
  {
   "cell_type": "code",
   "execution_count": 66,
   "metadata": {},
   "outputs": [
    {
     "data": {
      "image/png": "[encoded data removed]",
      "text/plain": [
       "<Figure size 1000x600 with 1 Axes>"
      ]
     },
     "metadata": {},
     "output_type": "display_data"
    }
   ],
   "source": [
    "plt.figure(figsize=(10, 6))\n",
    "sns.histplot(df['transaction_amount'], bins=50, kde=True)\n",
    "plt.title('Distribución de Montos de Transacciones')\n",
    "plt.xlabel('Monto de la Transacción')\n",
    "plt.ylabel('Frecuencia')\n",
    "plt.show()\n"
   ]
  },
  {
   "cell_type": "code",
   "execution_count": 67,
   "metadata": {},
   "outputs": [
    {
     "data": {
      "image/png": "[encoded data removed]",
      "text/plain": [
       "<Figure size 600x400 with 1 Axes>"
      ]
     },
     "metadata": {},
     "output_type": "display_data"
    }
   ],
   "source": [
    "plt.figure(figsize=(6, 4))\n",
    "sns.countplot(x='transaction_type', data=df)\n",
    "plt.title('Frecuencia de Tipos de Transacciones')\n",
    "plt.xlabel('Tipo de Transacción')\n",
    "plt.ylabel('Frecuencia')\n",
    "plt.show()\n"
   ]
  },
  {
   "cell_type": "code",
   "execution_count": 69,
   "metadata": {},
   "outputs": [
    {
     "data": {
      "text/html": [
       "<div>\n",
       "<style scoped>\n",
       "    .dataframe tbody tr th:only-of-type {\n",
       "        vertical-align: middle;\n",
       "    }\n",
       "\n",
       "    .dataframe tbody tr th {\n",
       "        vertical-align: top;\n",
       "    }\n",
       "\n",
       "    .dataframe thead th {\n",
       "        text-align: right;\n",
       "    }\n",
       "</style>\n",
       "<table border=\"1\" class=\"dataframe\">\n",
       "  <thead>\n",
       "    <tr style=\"text-align: right;\">\n",
       "      <th></th>\n",
       "      <th>merchant_id</th>\n",
       "      <th>_id</th>\n",
       "      <th>subsidiary</th>\n",
       "      <th>transaction_date</th>\n",
       "      <th>account_number</th>\n",
       "      <th>user_id</th>\n",
       "      <th>transaction_amount</th>\n",
       "      <th>transaction_type</th>\n",
       "      <th>group_id</th>\n",
       "      <th>date_only</th>\n",
       "      <th>amount_log</th>\n",
       "      <th>anomaly</th>\n",
       "    </tr>\n",
       "  </thead>\n",
       "  <tbody>\n",
       "    <tr>\n",
       "      <th>8209329</th>\n",
       "      <td>817d18cd3c31e40e9bff0566baae7758</td>\n",
       "      <td>5befbdbaed35bca999111d78aa740191</td>\n",
       "      <td>7a31293cbe453c3f2b84cf3f80587356</td>\n",
       "      <td>2021-11-29 14:47:18</td>\n",
       "      <td>3a116edc8af9987f7515d140b6a49e5e</td>\n",
       "      <td>24f41cf21f5363c23adb053e12c4872b</td>\n",
       "      <td>3210.005707</td>\n",
       "      <td>DEBITO</td>\n",
       "      <td>24f41cf21f5363c23adb053e12c4872b</td>\n",
       "      <td>2021-11-29</td>\n",
       "      <td>8.074339</td>\n",
       "      <td>-1</td>\n",
       "    </tr>\n",
       "    <tr>\n",
       "      <th>1652327</th>\n",
       "      <td>817d18cd3c31e40e9bff0566baae7758</td>\n",
       "      <td>e90f0688af19f4bdcd80ec14ba636d43</td>\n",
       "      <td>448b8cc741cb2d77aaa7f6fd0e34bd43</td>\n",
       "      <td>2021-08-27 15:19:20</td>\n",
       "      <td>8a9594c3441e4ea2ccf06089fa4a907b</td>\n",
       "      <td>506eb9dfb20b36eb0e7fa6478f823bc0</td>\n",
       "      <td>2092.448164</td>\n",
       "      <td>DEBITO</td>\n",
       "      <td>506eb9dfb20b36eb0e7fa6478f823bc0</td>\n",
       "      <td>2021-08-27</td>\n",
       "      <td>7.646568</td>\n",
       "      <td>-1</td>\n",
       "    </tr>\n",
       "    <tr>\n",
       "      <th>8007126</th>\n",
       "      <td>817d18cd3c31e40e9bff0566baae7758</td>\n",
       "      <td>789e853fa2edb1f5b84deee0d34d942b</td>\n",
       "      <td>f17b022ad5fb2f6875611d94fb2e92ed</td>\n",
       "      <td>2021-11-05 16:34:52</td>\n",
       "      <td>3b8dbb00a82076e63dbd3184a911fa0b</td>\n",
       "      <td>af02082eb7246844b1ae5028b4bf2589</td>\n",
       "      <td>2211.337265</td>\n",
       "      <td>DEBITO</td>\n",
       "      <td>af02082eb7246844b1ae5028b4bf2589</td>\n",
       "      <td>2021-11-05</td>\n",
       "      <td>7.701805</td>\n",
       "      <td>-1</td>\n",
       "    </tr>\n",
       "    <tr>\n",
       "      <th>3009323</th>\n",
       "      <td>817d18cd3c31e40e9bff0566baae7758</td>\n",
       "      <td>aaa89d835e5060c8395c44917db7ceeb</td>\n",
       "      <td>fbb39eb74e2b7ea252a45bd034c55021</td>\n",
       "      <td>2021-08-03 18:00:24</td>\n",
       "      <td>3113930b312c694f12b17dcd78be6b3c</td>\n",
       "      <td>60757c3109b3b234791cca6b1770e53e</td>\n",
       "      <td>1426.669203</td>\n",
       "      <td>DEBITO</td>\n",
       "      <td>60757c3109b3b234791cca6b1770e53e</td>\n",
       "      <td>2021-08-03</td>\n",
       "      <td>7.263798</td>\n",
       "      <td>-1</td>\n",
       "    </tr>\n",
       "    <tr>\n",
       "      <th>6143937</th>\n",
       "      <td>817d18cd3c31e40e9bff0566baae7758</td>\n",
       "      <td>1d12e6719ba719061f27dff887a39440</td>\n",
       "      <td>385110367dca4a60adee7995feeb76f0</td>\n",
       "      <td>2021-09-16 07:36:11</td>\n",
       "      <td>38fd65ee7587803952c62586597f62a5</td>\n",
       "      <td>e32c378aca2a25cb1e1d31a5f49c0bc5</td>\n",
       "      <td>2258.892905</td>\n",
       "      <td>DEBITO</td>\n",
       "      <td>e32c378aca2a25cb1e1d31a5f49c0bc5</td>\n",
       "      <td>2021-09-16</td>\n",
       "      <td>7.723073</td>\n",
       "      <td>-1</td>\n",
       "    </tr>\n",
       "  </tbody>\n",
       "</table>\n",
       "</div>"
      ],
      "text/plain": [
       "                              merchant_id                               _id  \\\n",
       "8209329  817d18cd3c31e40e9bff0566baae7758  5befbdbaed35bca999111d78aa740191   \n",
       "1652327  817d18cd3c31e40e9bff0566baae7758  e90f0688af19f4bdcd80ec14ba636d43   \n",
       "8007126  817d18cd3c31e40e9bff0566baae7758  789e853fa2edb1f5b84deee0d34d942b   \n",
       "3009323  817d18cd3c31e40e9bff0566baae7758  aaa89d835e5060c8395c44917db7ceeb   \n",
       "6143937  817d18cd3c31e40e9bff0566baae7758  1d12e6719ba719061f27dff887a39440   \n",
       "\n",
       "                               subsidiary    transaction_date  \\\n",
       "8209329  7a31293cbe453c3f2b84cf3f80587356 2021-11-29 14:47:18   \n",
       "1652327  448b8cc741cb2d77aaa7f6fd0e34bd43 2021-08-27 15:19:20   \n",
       "8007126  f17b022ad5fb2f6875611d94fb2e92ed 2021-11-05 16:34:52   \n",
       "3009323  fbb39eb74e2b7ea252a45bd034c55021 2021-08-03 18:00:24   \n",
       "6143937  385110367dca4a60adee7995feeb76f0 2021-09-16 07:36:11   \n",
       "\n",
       "                           account_number                           user_id  \\\n",
       "8209329  3a116edc8af9987f7515d140b6a49e5e  24f41cf21f5363c23adb053e12c4872b   \n",
       "1652327  8a9594c3441e4ea2ccf06089fa4a907b  506eb9dfb20b36eb0e7fa6478f823bc0   \n",
       "8007126  3b8dbb00a82076e63dbd3184a911fa0b  af02082eb7246844b1ae5028b4bf2589   \n",
       "3009323  3113930b312c694f12b17dcd78be6b3c  60757c3109b3b234791cca6b1770e53e   \n",
       "6143937  38fd65ee7587803952c62586597f62a5  e32c378aca2a25cb1e1d31a5f49c0bc5   \n",
       "\n",
       "         transaction_amount transaction_type  \\\n",
       "8209329         3210.005707           DEBITO   \n",
       "1652327         2092.448164           DEBITO   \n",
       "8007126         2211.337265           DEBITO   \n",
       "3009323         1426.669203           DEBITO   \n",
       "6143937         2258.892905           DEBITO   \n",
       "\n",
       "                                 group_id   date_only  amount_log  anomaly  \n",
       "8209329  24f41cf21f5363c23adb053e12c4872b  2021-11-29    8.074339       -1  \n",
       "1652327  506eb9dfb20b36eb0e7fa6478f823bc0  2021-08-27    7.646568       -1  \n",
       "8007126  af02082eb7246844b1ae5028b4bf2589  2021-11-05    7.701805       -1  \n",
       "3009323  60757c3109b3b234791cca6b1770e53e  2021-08-03    7.263798       -1  \n",
       "6143937  e32c378aca2a25cb1e1d31a5f49c0bc5  2021-09-16    7.723073       -1  "
      ]
     },
     "execution_count": 69,
     "metadata": {},
     "output_type": "execute_result"
    }
   ],
   "source": [
    "from sklearn.ensemble import IsolationForest\n",
    "\n",
    "# Entrenar un modelo de Isolation Forest\n",
    "model = IsolationForest(contamination=0.01)  # ajusta 'contamination' basado en el porcentaje de transacciones esperadas como anómalas\n",
    "df['amount_log'] = np.log1p(df['transaction_amount'])  # Aplicar log para manejar sesgos en los datos\n",
    "model.fit(df[['amount_log']])\n",
    "\n",
    "# Predecir transacciones anómalas\n",
    "df['anomaly'] = model.predict(df[['amount_log']])  # 1: normal, -1: anómalas\n",
    "\n",
    "# Filtrar las transacciones anómalas\n",
    "suspicious_transactions = df[df['anomaly'] == -1]\n",
    "suspicious_transactions.head()\n"
   ]
  },
  {
   "cell_type": "code",
   "execution_count": 71,
   "metadata": {},
   "outputs": [
    {
     "data": {
      "text/plain": [
       "(52, 12)"
      ]
     },
     "execution_count": 71,
     "metadata": {},
     "output_type": "execute_result"
    }
   ],
   "source": [
    "suspicious_transactions.shape"
   ]
  },
  {
   "cell_type": "code",
   "execution_count": null,
   "metadata": {},
   "outputs": [],
   "source": []
  }
 ],
 "metadata": {
  "kernelspec": {
   "display_name": "Python 3",
   "language": "python",
   "name": "python3"
  },
  "language_info": {
   "codemirror_mode": {
    "name": "ipython",
    "version": 3
   },
   "file_extension": ".py",
   "mimetype": "text/x-python",
   "name": "python",
   "nbconvert_exporter": "python",
   "pygments_lexer": "ipython3",
   "version": "3.11.9"
  }
 },
 "nbformat": 4,
 "nbformat_minor": 2
}
