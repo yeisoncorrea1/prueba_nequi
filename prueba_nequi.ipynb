{
 "cells": [
  {
   "cell_type": "markdown",
   "metadata": {},
   "source": [
    "## **Científico de datos en NEQUI: Prueba Técnica**\n",
    "### Yeison Andrés Correa Castaño"
   ]
  },
  {
   "cell_type": "markdown",
   "metadata": {},
   "source": [
    "**Objetivo:** El objetivo de la prueba es idear una solución para identificar transacciones que evidencian un\n",
    "comportamiento de Mala Práctica Transaccional."
   ]
  },
  {
   "cell_type": "markdown",
   "metadata": {},
   "source": [
    "### Importar librerias necesarias"
   ]
  },
  {
   "cell_type": "code",
   "execution_count": 3,
   "metadata": {},
   "outputs": [],
   "source": [
    "import pandas as pd\n",
    "import pandas as pd\n",
    "import numpy as np\n",
    "from datetime import datetime, timedelta\n",
    "import matplotlib.pyplot as plt\n",
    "import seaborn as sns"
   ]
  },
  {
   "cell_type": "markdown",
   "metadata": {},
   "source": [
    "### Cargar y limpiar los datos"
   ]
  },
  {
   "cell_type": "code",
   "execution_count": null,
   "metadata": {},
   "outputs": [],
   "source": [
    "url_1 = \"sample_data_0006_part_00.parquet\"\n",
    "\n",
    "df_1 = pd.read_parquet(url_1)\n",
    "df_1.head()"
   ]
  },
  {
   "cell_type": "code",
   "execution_count": null,
   "metadata": {},
   "outputs": [],
   "source": [
    "# Convertir la columna a tipo datetime y formatear la fecha como YYYYMMDD\n",
    "df_1['transaction_date'] = pd.to_datetime(df_1['transaction_date']).dt.strftime('%Y%m%d')\n",
    "\n",
    "# Contar la cantidad de transacciones por día\n",
    "daily_counts = df_1['transaction_date'].value_counts().sort_index()\n",
    "\n",
    "# Mostrar los resultados en el formato deseado\n",
    "for date, count in daily_counts.items():\n",
    "    print(f\"{date} {count}\")"
   ]
  },
  {
   "cell_type": "code",
   "execution_count": 113,
   "metadata": {},
   "outputs": [],
   "source": [
    "df_1['transaction_date'] = pd.to_datetime(df_1['transaction_date'])\n",
    "\n",
    "# Definir el rango de fechas\n",
    "start_date = \"2021-06-11\"\n",
    "end_date = \"2021-06-22\"\n",
    "\n",
    "# Filtrar los datos dentro del rango de fechas\n",
    "filtered_df = df_1[(df_1['transaction_date'] >= start_date) & (df_1['transaction_date'] <= end_date)]"
   ]
  },
  {
   "cell_type": "code",
   "execution_count": 114,
   "metadata": {},
   "outputs": [],
   "source": [
    "filtered_df.to_csv('data.csv')"
   ]
  },
  {
   "cell_type": "markdown",
   "metadata": {},
   "source": [
    "### Leer base de datos"
   ]
  },
  {
   "cell_type": "code",
   "execution_count": 4,
   "metadata": {},
   "outputs": [],
   "source": [
    "data = pd.read_csv('data.csv')"
   ]
  },
  {
   "cell_type": "code",
   "execution_count": 5,
   "metadata": {},
   "outputs": [
    {
     "data": {
      "text/html": [
       "<div>\n",
       "<style scoped>\n",
       "    .dataframe tbody tr th:only-of-type {\n",
       "        vertical-align: middle;\n",
       "    }\n",
       "\n",
       "    .dataframe tbody tr th {\n",
       "        vertical-align: top;\n",
       "    }\n",
       "\n",
       "    .dataframe thead th {\n",
       "        text-align: right;\n",
       "    }\n",
       "</style>\n",
       "<table border=\"1\" class=\"dataframe\">\n",
       "  <thead>\n",
       "    <tr style=\"text-align: right;\">\n",
       "      <th></th>\n",
       "      <th>Unnamed: 0</th>\n",
       "      <th>merchant_id</th>\n",
       "      <th>_id</th>\n",
       "      <th>subsidiary</th>\n",
       "      <th>transaction_date</th>\n",
       "      <th>account_number</th>\n",
       "      <th>user_id</th>\n",
       "      <th>transaction_amount</th>\n",
       "      <th>transaction_type</th>\n",
       "    </tr>\n",
       "  </thead>\n",
       "  <tbody>\n",
       "    <tr>\n",
       "      <th>0</th>\n",
       "      <td>127249</td>\n",
       "      <td>075d178871d8d48502bf1f54887e52fe</td>\n",
       "      <td>8ea6a30060591a18cf5dc40affada997</td>\n",
       "      <td>db2eef9b96323e5a518484631789d464</td>\n",
       "      <td>2021-06-11</td>\n",
       "      <td>ea65109b8f9f1e8e36cb3603d0e4e880</td>\n",
       "      <td>1f64253dc29b32a55f44c37f3770151b</td>\n",
       "      <td>171.200304</td>\n",
       "      <td>CREDITO</td>\n",
       "    </tr>\n",
       "    <tr>\n",
       "      <th>1</th>\n",
       "      <td>127250</td>\n",
       "      <td>075d178871d8d48502bf1f54887e52fe</td>\n",
       "      <td>a19383e01995dac973d24a60828cb048</td>\n",
       "      <td>c2f62d03ef7784a8f4c087a496922840</td>\n",
       "      <td>2021-06-11</td>\n",
       "      <td>d3bca5f7a370953d7c83b13d91bed60d</td>\n",
       "      <td>4ae95ef03927830047298c9dc1ef891a</td>\n",
       "      <td>17.833365</td>\n",
       "      <td>CREDITO</td>\n",
       "    </tr>\n",
       "    <tr>\n",
       "      <th>2</th>\n",
       "      <td>127251</td>\n",
       "      <td>075d178871d8d48502bf1f54887e52fe</td>\n",
       "      <td>3efd30650bc82e1c2e0a7a9d67d2eef7</td>\n",
       "      <td>4267803441c84b90cd56b5382ab5b8a7</td>\n",
       "      <td>2021-06-11</td>\n",
       "      <td>5b9969d7e6d81bb74ff13a75b23df2a3</td>\n",
       "      <td>6431decbadc2614a424f3b18da58d4f3</td>\n",
       "      <td>475.556401</td>\n",
       "      <td>CREDITO</td>\n",
       "    </tr>\n",
       "    <tr>\n",
       "      <th>3</th>\n",
       "      <td>127252</td>\n",
       "      <td>075d178871d8d48502bf1f54887e52fe</td>\n",
       "      <td>0e5c46e0362af1e9668ae3829bd5eeee</td>\n",
       "      <td>f1fb35c5064925cdfb48361b7035a177</td>\n",
       "      <td>2021-06-11</td>\n",
       "      <td>cf49522ce9259c9816a06b6dae777871</td>\n",
       "      <td>6bd42b856f9848f1ab68ce958889033b</td>\n",
       "      <td>19.022256</td>\n",
       "      <td>CREDITO</td>\n",
       "    </tr>\n",
       "    <tr>\n",
       "      <th>4</th>\n",
       "      <td>127253</td>\n",
       "      <td>075d178871d8d48502bf1f54887e52fe</td>\n",
       "      <td>926122f7fe818966f5257fd130c06da8</td>\n",
       "      <td>824b2af470cbe6a65b15650e03b740fc</td>\n",
       "      <td>2021-06-11</td>\n",
       "      <td>e24c6ba0a183e1a553ae17e8bc78a1a5</td>\n",
       "      <td>c5605508d286b3e465c745534935acbc</td>\n",
       "      <td>139.100247</td>\n",
       "      <td>CREDITO</td>\n",
       "    </tr>\n",
       "  </tbody>\n",
       "</table>\n",
       "</div>"
      ],
      "text/plain": [
       "   Unnamed: 0                       merchant_id  \\\n",
       "0      127249  075d178871d8d48502bf1f54887e52fe   \n",
       "1      127250  075d178871d8d48502bf1f54887e52fe   \n",
       "2      127251  075d178871d8d48502bf1f54887e52fe   \n",
       "3      127252  075d178871d8d48502bf1f54887e52fe   \n",
       "4      127253  075d178871d8d48502bf1f54887e52fe   \n",
       "\n",
       "                                _id                        subsidiary  \\\n",
       "0  8ea6a30060591a18cf5dc40affada997  db2eef9b96323e5a518484631789d464   \n",
       "1  a19383e01995dac973d24a60828cb048  c2f62d03ef7784a8f4c087a496922840   \n",
       "2  3efd30650bc82e1c2e0a7a9d67d2eef7  4267803441c84b90cd56b5382ab5b8a7   \n",
       "3  0e5c46e0362af1e9668ae3829bd5eeee  f1fb35c5064925cdfb48361b7035a177   \n",
       "4  926122f7fe818966f5257fd130c06da8  824b2af470cbe6a65b15650e03b740fc   \n",
       "\n",
       "  transaction_date                    account_number  \\\n",
       "0       2021-06-11  ea65109b8f9f1e8e36cb3603d0e4e880   \n",
       "1       2021-06-11  d3bca5f7a370953d7c83b13d91bed60d   \n",
       "2       2021-06-11  5b9969d7e6d81bb74ff13a75b23df2a3   \n",
       "3       2021-06-11  cf49522ce9259c9816a06b6dae777871   \n",
       "4       2021-06-11  e24c6ba0a183e1a553ae17e8bc78a1a5   \n",
       "\n",
       "                            user_id  transaction_amount transaction_type  \n",
       "0  1f64253dc29b32a55f44c37f3770151b          171.200304          CREDITO  \n",
       "1  4ae95ef03927830047298c9dc1ef891a           17.833365          CREDITO  \n",
       "2  6431decbadc2614a424f3b18da58d4f3          475.556401          CREDITO  \n",
       "3  6bd42b856f9848f1ab68ce958889033b           19.022256          CREDITO  \n",
       "4  c5605508d286b3e465c745534935acbc          139.100247          CREDITO  "
      ]
     },
     "execution_count": 5,
     "metadata": {},
     "output_type": "execute_result"
    }
   ],
   "source": [
    "# Cargar los datos desde un archivo CSV (reemplaza la ruta con tu archivo)\n",
    "df = pd.read_csv('data.csv')\n",
    "\n",
    "# Convertir la columna transaction_date a tipo datetime\n",
    "df['transaction_date'] = pd.to_datetime(df['transaction_date'])\n",
    "\n",
    "# Convertir los montos de transacciones a float\n",
    "df['transaction_amount'] = df['transaction_amount'].astype(float)\n",
    "\n",
    "# Eliminar duplicados (si los hay)\n",
    "df = df.drop_duplicates()\n",
    "\n",
    "df.head()\n"
   ]
  },
  {
   "cell_type": "code",
   "execution_count": 6,
   "metadata": {},
   "outputs": [
    {
     "data": {
      "text/plain": [
       "(388904, 9)"
      ]
     },
     "execution_count": 6,
     "metadata": {},
     "output_type": "execute_result"
    }
   ],
   "source": [
    "df.shape"
   ]
  },
  {
   "cell_type": "markdown",
   "metadata": {},
   "source": [
    "## **Paso 1: Alcance del proyecto.**"
   ]
  },
  {
   "cell_type": "markdown",
   "metadata": {},
   "source": [
    "### Agrupar y sumar transacciones"
   ]
  },
  {
   "cell_type": "code",
   "execution_count": 7,
   "metadata": {},
   "outputs": [
    {
     "name": "stdout",
     "output_type": "stream",
     "text": [
      "Transacción media para clientes no sospechosos: 118.88910024\n"
     ]
    }
   ],
   "source": [
    "# Calcular transacción promedio para clientes no sospechosos\n",
    "non_suspicious_mean = df['transaction_amount'].median()\n",
    "print(f\"Transacción media para clientes no sospechosos: {non_suspicious_mean}\")"
   ]
  },
  {
   "cell_type": "markdown",
   "metadata": {},
   "source": [
    "Una transaccion media de 119 es no sospechosa, tenemos que encontrar los clientes que hacen varias transferencias para llegar a esta cifra en un día."
   ]
  },
  {
   "cell_type": "code",
   "execution_count": 24,
   "metadata": {},
   "outputs": [
    {
     "data": {
      "text/html": [
       "<div>\n",
       "<style scoped>\n",
       "    .dataframe tbody tr th:only-of-type {\n",
       "        vertical-align: middle;\n",
       "    }\n",
       "\n",
       "    .dataframe tbody tr th {\n",
       "        vertical-align: top;\n",
       "    }\n",
       "\n",
       "    .dataframe thead th {\n",
       "        text-align: right;\n",
       "    }\n",
       "</style>\n",
       "<table border=\"1\" class=\"dataframe\">\n",
       "  <thead>\n",
       "    <tr style=\"text-align: right;\">\n",
       "      <th></th>\n",
       "      <th>account_number</th>\n",
       "      <th>transaction_hour</th>\n",
       "      <th>total_transaction_amount</th>\n",
       "      <th>median_transaction_amount</th>\n",
       "      <th>transaction_count</th>\n",
       "    </tr>\n",
       "  </thead>\n",
       "  <tbody>\n",
       "    <tr>\n",
       "      <th>0</th>\n",
       "      <td>00003f36588d54059d46b91978c6333f</td>\n",
       "      <td>2021-06-22</td>\n",
       "      <td>59.444550</td>\n",
       "      <td>59.444550</td>\n",
       "      <td>1</td>\n",
       "    </tr>\n",
       "    <tr>\n",
       "      <th>1</th>\n",
       "      <td>000061714f1bd279c9dbeeabe29fcd01</td>\n",
       "      <td>2021-06-12</td>\n",
       "      <td>594.445501</td>\n",
       "      <td>594.445501</td>\n",
       "      <td>1</td>\n",
       "    </tr>\n",
       "    <tr>\n",
       "      <th>2</th>\n",
       "      <td>00008e655349530a90b26b869f63f9a2</td>\n",
       "      <td>2021-06-12</td>\n",
       "      <td>356.667301</td>\n",
       "      <td>356.667301</td>\n",
       "      <td>1</td>\n",
       "    </tr>\n",
       "    <tr>\n",
       "      <th>3</th>\n",
       "      <td>00008e655349530a90b26b869f63f9a2</td>\n",
       "      <td>2021-06-18</td>\n",
       "      <td>237.778200</td>\n",
       "      <td>237.778200</td>\n",
       "      <td>1</td>\n",
       "    </tr>\n",
       "    <tr>\n",
       "      <th>4</th>\n",
       "      <td>000145c89e3faae99d09731414395e5a</td>\n",
       "      <td>2021-06-12</td>\n",
       "      <td>118.889100</td>\n",
       "      <td>118.889100</td>\n",
       "      <td>1</td>\n",
       "    </tr>\n",
       "  </tbody>\n",
       "</table>\n",
       "</div>"
      ],
      "text/plain": [
       "                     account_number transaction_hour  \\\n",
       "0  00003f36588d54059d46b91978c6333f       2021-06-22   \n",
       "1  000061714f1bd279c9dbeeabe29fcd01       2021-06-12   \n",
       "2  00008e655349530a90b26b869f63f9a2       2021-06-12   \n",
       "3  00008e655349530a90b26b869f63f9a2       2021-06-18   \n",
       "4  000145c89e3faae99d09731414395e5a       2021-06-12   \n",
       "\n",
       "   total_transaction_amount  median_transaction_amount  transaction_count  \n",
       "0                 59.444550                  59.444550                  1  \n",
       "1                594.445501                 594.445501                  1  \n",
       "2                356.667301                 356.667301                  1  \n",
       "3                237.778200                 237.778200                  1  \n",
       "4                118.889100                 118.889100                  1  "
      ]
     },
     "execution_count": 24,
     "metadata": {},
     "output_type": "execute_result"
    }
   ],
   "source": [
    "# Crear una columna de ventana de 24 horas\n",
    "df['transaction_hour'] = df['transaction_date'].dt.floor('24h')\n",
    "\n",
    "# Agrupar por account_number y ventana de 24 horas, y calcular suma, media, mediana y conteo de transacciones\n",
    "grouped_df = df.groupby(['account_number', 'transaction_hour']).agg(\n",
    "    total_transaction_amount=('transaction_amount', 'sum'),\n",
    "    median_transaction_amount=('transaction_amount', 'median'),\n",
    "    transaction_count=('transaction_amount', 'count')\n",
    ").reset_index()\n",
    "\n",
    "grouped_df.head()\n"
   ]
  },
  {
   "cell_type": "markdown",
   "metadata": {},
   "source": [
    "### Análisis de la distribución de los montos"
   ]
  },
  {
   "cell_type": "code",
   "execution_count": 31,
   "metadata": {},
   "outputs": [
    {
     "name": "stdout",
     "output_type": "stream",
     "text": [
      "Mediana montos: 118.88910024\n",
      "Desviación Estándar montos: 310.2615891198818\n",
      "---------------------------------------------------\n",
      "Mediana transacciones: 1.0\n",
      "Desviación Estándar Transacciones: 0.3807133203712452\n"
     ]
    }
   ],
   "source": [
    "# Calcular estadísticas\n",
    "mean_amount = grouped_df['total_transaction_amount'].median()\n",
    "std_amount = grouped_df['total_transaction_amount'].std()\n",
    "\n",
    "mean_trx = grouped_df['transaction_count'].median()\n",
    "std_trx = grouped_df['transaction_count'].std()\n",
    "\n",
    "print(f\"Mediana montos: {mean_amount}\")\n",
    "print(f\"Desviación Estándar montos: {std_amount}\")\n",
    "\n",
    "print(\"---------------------------------------------------\")\n",
    "\n",
    "print(f\"Mediana transacciones: {mean_trx}\")\n",
    "print(f\"Desviación Estándar Transacciones: {std_trx}\")\n",
    "\n",
    "\n"
   ]
  },
  {
   "cell_type": "markdown",
   "metadata": {},
   "source": [
    "### Identificar transacciones sospechosas"
   ]
  },
  {
   "cell_type": "markdown",
   "metadata": {},
   "source": [
    "\n",
    "La elección del umbral basado en 3 desviaciones estándar es un enfoque heurístico, lo que significa que se utiliza una regla general basada en la experiencia y práctica general en análisis de datos para solucionar un problema específico. Este tipo de método no es exacto, pero puede ser muy efectivo para identificar patrones y outliers en datos con comportamiento similar a la distribución normal.\n",
    "\n",
    "Al usar 3 desviaciones estándar, aprovechamos el conocimiento estadístico de que en una distribución normal, todo lo que cae fuera de ese rango es menos del 1%. Por ende, esas transacciones se podrían considerar inusuales o sospechosas.\n",
    "\n",
    "El rango (40%-60%) se utiliza para centrarse en clientes que operan con montos totales en ese intervalo, lo que se asume podría indicar un comportamiento sospechoso.\n",
    "\n",
    "Se combinan tres condiciones para marcar transacciones sospechosas:\n",
    "\n",
    "- **Montos moderados:** La cantidad total transaccionada por el cliente está dentro del rango intermedio (30%-70%).\n",
    "- **Alta frecuencia:** El cliente realiza un número de transacciones mayor que el umbral definido previamente (threshold)"
   ]
  },
  {
   "cell_type": "code",
   "execution_count": 100,
   "metadata": {},
   "outputs": [
    {
     "name": "stdout",
     "output_type": "stream",
     "text": [
      "Con percentiles entre (40%-60%):\n"
     ]
    },
    {
     "data": {
      "text/html": [
       "<div>\n",
       "<style scoped>\n",
       "    .dataframe tbody tr th:only-of-type {\n",
       "        vertical-align: middle;\n",
       "    }\n",
       "\n",
       "    .dataframe tbody tr th {\n",
       "        vertical-align: top;\n",
       "    }\n",
       "\n",
       "    .dataframe thead th {\n",
       "        text-align: right;\n",
       "    }\n",
       "</style>\n",
       "<table border=\"1\" class=\"dataframe\">\n",
       "  <thead>\n",
       "    <tr style=\"text-align: right;\">\n",
       "      <th></th>\n",
       "      <th>account_number</th>\n",
       "      <th>transaction_hour</th>\n",
       "      <th>total_transaction_amount</th>\n",
       "      <th>median_transaction_amount</th>\n",
       "      <th>transaction_count</th>\n",
       "      <th>suspicious</th>\n",
       "      <th>transaction_to_amount_ratio</th>\n",
       "      <th>anomaly</th>\n",
       "      <th>fraccionamiento</th>\n",
       "    </tr>\n",
       "  </thead>\n",
       "  <tbody>\n",
       "    <tr>\n",
       "      <th>71</th>\n",
       "      <td>000d8c19f0a582fa5405c14c3898ab4c</td>\n",
       "      <td>2021-06-15</td>\n",
       "      <td>416.111851</td>\n",
       "      <td>118.88910</td>\n",
       "      <td>3</td>\n",
       "      <td>True</td>\n",
       "      <td>0.025234</td>\n",
       "      <td>0</td>\n",
       "      <td>0</td>\n",
       "    </tr>\n",
       "    <tr>\n",
       "      <th>92</th>\n",
       "      <td>00108481afbb7f3629b7212ea4fbe48c</td>\n",
       "      <td>2021-06-15</td>\n",
       "      <td>618.223321</td>\n",
       "      <td>118.88910</td>\n",
       "      <td>3</td>\n",
       "      <td>True</td>\n",
       "      <td>0.025234</td>\n",
       "      <td>0</td>\n",
       "      <td>0</td>\n",
       "    </tr>\n",
       "    <tr>\n",
       "      <th>413</th>\n",
       "      <td>004d628e16e315dcc12dc712e8818ea4</td>\n",
       "      <td>2021-06-12</td>\n",
       "      <td>891.668252</td>\n",
       "      <td>118.88910</td>\n",
       "      <td>3</td>\n",
       "      <td>True</td>\n",
       "      <td>0.025234</td>\n",
       "      <td>0</td>\n",
       "      <td>0</td>\n",
       "    </tr>\n",
       "    <tr>\n",
       "      <th>535</th>\n",
       "      <td>0065b7c4ccdffa826042038b7631d12d</td>\n",
       "      <td>2021-06-15</td>\n",
       "      <td>321.000571</td>\n",
       "      <td>59.44455</td>\n",
       "      <td>3</td>\n",
       "      <td>True</td>\n",
       "      <td>0.050467</td>\n",
       "      <td>0</td>\n",
       "      <td>0</td>\n",
       "    </tr>\n",
       "    <tr>\n",
       "      <th>900</th>\n",
       "      <td>00b296e919ab4cd8c9a1707f8a96901b</td>\n",
       "      <td>2021-06-17</td>\n",
       "      <td>202.111470</td>\n",
       "      <td>59.44455</td>\n",
       "      <td>3</td>\n",
       "      <td>True</td>\n",
       "      <td>0.050467</td>\n",
       "      <td>0</td>\n",
       "      <td>0</td>\n",
       "    </tr>\n",
       "  </tbody>\n",
       "</table>\n",
       "</div>"
      ],
      "text/plain": [
       "                       account_number transaction_hour  \\\n",
       "71   000d8c19f0a582fa5405c14c3898ab4c       2021-06-15   \n",
       "92   00108481afbb7f3629b7212ea4fbe48c       2021-06-15   \n",
       "413  004d628e16e315dcc12dc712e8818ea4       2021-06-12   \n",
       "535  0065b7c4ccdffa826042038b7631d12d       2021-06-15   \n",
       "900  00b296e919ab4cd8c9a1707f8a96901b       2021-06-17   \n",
       "\n",
       "     total_transaction_amount  median_transaction_amount  transaction_count  \\\n",
       "71                 416.111851                  118.88910                  3   \n",
       "92                 618.223321                  118.88910                  3   \n",
       "413                891.668252                  118.88910                  3   \n",
       "535                321.000571                   59.44455                  3   \n",
       "900                202.111470                   59.44455                  3   \n",
       "\n",
       "     suspicious  transaction_to_amount_ratio  anomaly  fraccionamiento  \n",
       "71         True                     0.025234        0                0  \n",
       "92         True                     0.025234        0                0  \n",
       "413        True                     0.025234        0                0  \n",
       "535        True                     0.050467        0                0  \n",
       "900        True                     0.050467        0                0  "
      ]
     },
     "execution_count": 100,
     "metadata": {},
     "output_type": "execute_result"
    }
   ],
   "source": [
    "# Definir el umbral como 3 desviaciones estándar por encima de la media de la cantidad de las transacciones\n",
    "threshold= mean_trx + 3 * std_trx\n",
    "\n",
    "# Utilizar percentiles para definir márgenes basados en la distribución de los datos\n",
    "lower_bound = np.percentile(grouped_df['total_transaction_amount'], 30)\n",
    "upper_bound = np.percentile(grouped_df['total_transaction_amount'], 70)\n",
    "\n",
    "grouped_df['suspicious'] = (grouped_df['median_transaction_amount'] >= lower_bound) & (grouped_df['median_transaction_amount'] <= upper_bound) & (grouped_df['transaction_count'] > threshold)\n",
    "suspicious_transactions = grouped_df[grouped_df['suspicious'] == True]\n",
    "print(f\"Con percentiles entre (40%-60%):\")\n",
    "suspicious_transactions.head()"
   ]
  },
  {
   "cell_type": "markdown",
   "metadata": {},
   "source": [
    "Por este sistema de reglas ya tenemos las cuentas de clientes con transacciones sospechosas"
   ]
  },
  {
   "cell_type": "markdown",
   "metadata": {},
   "source": [
    "## **Paso 2: Explorar y evaluar los datos, el EDA.**"
   ]
  },
  {
   "cell_type": "code",
   "execution_count": 107,
   "metadata": {},
   "outputs": [
    {
     "data": {
      "text/html": [
       "<div>\n",
       "<style scoped>\n",
       "    .dataframe tbody tr th:only-of-type {\n",
       "        vertical-align: middle;\n",
       "    }\n",
       "\n",
       "    .dataframe tbody tr th {\n",
       "        vertical-align: top;\n",
       "    }\n",
       "\n",
       "    .dataframe thead th {\n",
       "        text-align: right;\n",
       "    }\n",
       "</style>\n",
       "<table border=\"1\" class=\"dataframe\">\n",
       "  <thead>\n",
       "    <tr style=\"text-align: right;\">\n",
       "      <th></th>\n",
       "      <th>total_transaction_amount</th>\n",
       "      <th>transaction_count</th>\n",
       "    </tr>\n",
       "  </thead>\n",
       "  <tbody>\n",
       "    <tr>\n",
       "      <th>count</th>\n",
       "      <td>352496.000000</td>\n",
       "      <td>352496.000000</td>\n",
       "    </tr>\n",
       "    <tr>\n",
       "      <th>mean</th>\n",
       "      <td>214.156405</td>\n",
       "      <td>1.103286</td>\n",
       "    </tr>\n",
       "    <tr>\n",
       "      <th>std</th>\n",
       "      <td>310.261589</td>\n",
       "      <td>0.380713</td>\n",
       "    </tr>\n",
       "    <tr>\n",
       "      <th>min</th>\n",
       "      <td>5.944455</td>\n",
       "      <td>1.000000</td>\n",
       "    </tr>\n",
       "    <tr>\n",
       "      <th>25%</th>\n",
       "      <td>47.555640</td>\n",
       "      <td>1.000000</td>\n",
       "    </tr>\n",
       "    <tr>\n",
       "      <th>50%</th>\n",
       "      <td>118.889100</td>\n",
       "      <td>1.000000</td>\n",
       "    </tr>\n",
       "    <tr>\n",
       "      <th>75%</th>\n",
       "      <td>237.778200</td>\n",
       "      <td>1.000000</td>\n",
       "    </tr>\n",
       "    <tr>\n",
       "      <th>max</th>\n",
       "      <td>9630.017120</td>\n",
       "      <td>11.000000</td>\n",
       "    </tr>\n",
       "  </tbody>\n",
       "</table>\n",
       "</div>"
      ],
      "text/plain": [
       "       total_transaction_amount  transaction_count\n",
       "count             352496.000000      352496.000000\n",
       "mean                 214.156405           1.103286\n",
       "std                  310.261589           0.380713\n",
       "min                    5.944455           1.000000\n",
       "25%                   47.555640           1.000000\n",
       "50%                  118.889100           1.000000\n",
       "75%                  237.778200           1.000000\n",
       "max                 9630.017120          11.000000"
      ]
     },
     "execution_count": 107,
     "metadata": {},
     "output_type": "execute_result"
    }
   ],
   "source": [
    "# Descripción estadística de las dos variables\n",
    "grouped_df[['total_transaction_amount', 'transaction_count']].describe()"
   ]
  },
  {
   "cell_type": "code",
   "execution_count": 108,
   "metadata": {},
   "outputs": [
    {
     "data": {
      "image/png": "[encoded data removed]",
      "text/plain": [
       "<Figure size 600x300 with 1 Axes>"
      ]
     },
     "metadata": {},
     "output_type": "display_data"
    },
    {
     "data": {
      "image/png": "[encoded data removed]",
      "text/plain": [
       "<Figure size 600x300 with 1 Axes>"
      ]
     },
     "metadata": {},
     "output_type": "display_data"
    }
   ],
   "source": [
    "# Visualizar la distribución de los montos de transacciones\n",
    "plt.figure(figsize=(6, 3))\n",
    "sns.histplot(grouped_df['median_transaction_amount'], bins=50, kde=True)\n",
    "plt.title('Distribución de la mediana de transacciones por cuenta en un día')\n",
    "plt.xlabel('Media total de las transacciones')\n",
    "plt.ylabel('Frecuencia')\n",
    "plt.show()\n",
    "\n",
    "# Visualizar la distribución de las transacciones\n",
    "plt.figure(figsize=(6, 3))\n",
    "sns.histplot(grouped_df['transaction_count'], bins=50, kde=True)\n",
    "plt.title('Distribución de las transacciones en un día')\n",
    "plt.xlabel('Total de las transacciones')\n",
    "plt.ylabel('Frecuencia')\n",
    "plt.show()"
   ]
  },
  {
   "cell_type": "markdown",
   "metadata": {},
   "source": [
    "#### Distribución de transacciones\n",
    "\n",
    "- **Distribución sesgada a la derecha:** La mayoría de las transacciones tienden a ser de montos relativamente bajos, lo que es evidente en la alta frecuencia de transacciones en el rango de 0 a 200.\n",
    "\n",
    "- **Disminución gradual:** A medida que el monto de las transacciones aumenta, la frecuencia de dichas transacciones disminuye drásticamente. Esto indica que las transacciones de alto monto son menos comunes.\n",
    "\n",
    "- **Outliers:** Hay transacciones que superan significativamente los montos comunes, representados por los puntos alejados a la derecha del gráfico."
   ]
  },
  {
   "cell_type": "code",
   "execution_count": 109,
   "metadata": {},
   "outputs": [
    {
     "data": {
      "image/png": "[encoded data removed]",
      "text/plain": [
       "<Figure size 500x300 with 1 Axes>"
      ]
     },
     "metadata": {},
     "output_type": "display_data"
    }
   ],
   "source": [
    "# Configuración de la gráfica\n",
    "plt.figure(figsize=(5, 3))\n",
    "ax = sns.countplot(x='transaction_type', data=df)\n",
    "plt.title('Frecuencia de Tipos de Transacciones')\n",
    "plt.xlabel('Tipo de Transacción')\n",
    "plt.ylabel('Frecuencia')\n",
    "\n",
    "# Añadir porcentajes \n",
    "for p in ax.patches:\n",
    "    height = p.get_height()\n",
    "    percentage = '{:.1f}%'.format(100 * height / len(df))\n",
    "    ax.text(p.get_x() + p.get_width() / 2., height + 1, percentage, ha='center', size=9)\n",
    "\n",
    "plt.show()"
   ]
  },
  {
   "cell_type": "markdown",
   "metadata": {},
   "source": [
    "La mayor parte de las transacciones (85.2%) son de tipo débito, lo que indica que la mayoría de las operaciones realizadas implican el retiro o transferencia de fondos y solo el 14.8% de las transacciones son de tipo crédito. Esto puede sugerir un patrón donde los créditos son ligeramente menos comunes, o reflejar la naturaleza específica del uso de los servicios financieros en cuestión."
   ]
  },
  {
   "cell_type": "code",
   "execution_count": 110,
   "metadata": {},
   "outputs": [
    {
     "data": {
      "image/png": "[encoded data removed]",
      "text/plain": [
       "<Figure size 400x300 with 1 Axes>"
      ]
     },
     "metadata": {},
     "output_type": "display_data"
    }
   ],
   "source": [
    "plt.figure(figsize=(4, 3))\n",
    "sns.boxplot(x='transaction_type', y='transaction_amount', data=df)\n",
    "plt.title('Distribución de montos por tipo de transacción')\n",
    "plt.xlabel('Tipo de Transacción')\n",
    "plt.ylabel('Monto de la Transacción')\n",
    "plt.show()"
   ]
  },
  {
   "cell_type": "markdown",
   "metadata": {},
   "source": [
    "#### Distribución de montos de transacciones\n",
    "\n",
    "Crédito:\n",
    "\n",
    "- Menor Dispersión: Los montos de las transacciones de crédito tienen una menor variabilidad en comparación con las transacciones de débito.\n",
    "- Outliers Reducidos: Hay pocos valores atípicos (outliers) indicando menos transacciones inusuales.\n",
    "\n",
    "Débito:\n",
    "\n",
    "- Mayor Dispersión: Las transacciones de débito muestran una mayor variabilidad en los montos,tiene desde valores bajos hasta montos significativamente más altos.\n",
    "- Numerosos Outliers: La presencia de varios outliers refleja transacciones debitadas significativamente más altas, en la cual se pueden detectar posibles fraudes o comportamientos anormales."
   ]
  },
  {
   "cell_type": "code",
   "execution_count": 111,
   "metadata": {},
   "outputs": [
    {
     "data": {
      "image/png": "[encoded data removed]",
      "text/plain": [
       "<Figure size 800x300 with 1 Axes>"
      ]
     },
     "metadata": {},
     "output_type": "display_data"
    }
   ],
   "source": [
    "df['date_only'] = df['transaction_date'].dt.date\n",
    "transactions_per_day = df.groupby('date_only').size()\n",
    "\n",
    "plt.figure(figsize=(8, 3))\n",
    "transactions_per_day.plot()\n",
    "plt.title('Número de Transacciones por Día')\n",
    "plt.xlabel('Fecha')\n",
    "plt.ylabel('Número de Transacciones')\n",
    "plt.show()\n"
   ]
  },
  {
   "cell_type": "markdown",
   "metadata": {},
   "source": [
    "Los días 15 de junio de 2021 y 21 de junio de 2021 muestran picos pronunciados en las transacciones, lo que podría estar relacionado con pagos de nómina, promociones, pagos recurrentes, o eventos estacionales."
   ]
  },
  {
   "cell_type": "code",
   "execution_count": 112,
   "metadata": {},
   "outputs": [
    {
     "data": {
      "image/png": "[encoded data removed]",
      "text/plain": [
       "<Figure size 800x300 with 1 Axes>"
      ]
     },
     "metadata": {},
     "output_type": "display_data"
    }
   ],
   "source": [
    "total_amount_per_day = df.groupby('date_only')['transaction_amount'].sum()\n",
    "\n",
    "plt.figure(figsize=(8, 3))\n",
    "total_amount_per_day.plot()\n",
    "plt.title('Monto Total de Transacciones por Día')\n",
    "plt.xlabel('Fecha')\n",
    "plt.ylabel('Monto Total de las Transacciones')\n",
    "plt.show()\n"
   ]
  },
  {
   "cell_type": "code",
   "execution_count": 113,
   "metadata": {},
   "outputs": [
    {
     "data": {
      "image/png": "[encoded data removed]",
      "text/plain": [
       "<Figure size 1000x400 with 1 Axes>"
      ]
     },
     "metadata": {},
     "output_type": "display_data"
    }
   ],
   "source": [
    "plt.figure(figsize=(10, 4))\n",
    "sns.boxplot(x='transaction_amount', data=df)\n",
    "plt.title('Outliers en Montos de Transacción')\n",
    "plt.xlabel('Monto de la Transacción')\n",
    "plt.show()"
   ]
  },
  {
   "cell_type": "markdown",
   "metadata": {},
   "source": [
    "#### Distribución y Valores Atípicos (Outliers)\n",
    "\n",
    "- Concentración de Montos Bajos: La mayoría de las transacciones se concentran en un rango de montos relativamente bajos, por debajo de 500 \n",
    "\n",
    "- Valores Atípicos Significativos: Hay una cantidad considerable de outliers, que se extienden hasta más de 3000. Estos valores atípicos indican transacciones con montos significativamente más altos que la media."
   ]
  },
  {
   "cell_type": "markdown",
   "metadata": {},
   "source": [
    "## **Paso 3: Definir el Modelo Analítico**\n",
    "\n",
    "#### 1. Trazar el flujo de datos y seleccionar el modelo final\n",
    "\n",
    "\n"
   ]
  },
  {
   "cell_type": "code",
   "execution_count": 114,
   "metadata": {},
   "outputs": [
    {
     "data": {
      "text/html": [
       "<div>\n",
       "<style scoped>\n",
       "    .dataframe tbody tr th:only-of-type {\n",
       "        vertical-align: middle;\n",
       "    }\n",
       "\n",
       "    .dataframe tbody tr th {\n",
       "        vertical-align: top;\n",
       "    }\n",
       "\n",
       "    .dataframe thead th {\n",
       "        text-align: right;\n",
       "    }\n",
       "</style>\n",
       "<table border=\"1\" class=\"dataframe\">\n",
       "  <thead>\n",
       "    <tr style=\"text-align: right;\">\n",
       "      <th></th>\n",
       "      <th>account_number</th>\n",
       "      <th>transaction_hour</th>\n",
       "      <th>total_transaction_amount</th>\n",
       "      <th>median_transaction_amount</th>\n",
       "      <th>transaction_count</th>\n",
       "      <th>suspicious</th>\n",
       "      <th>transaction_to_amount_ratio</th>\n",
       "      <th>anomaly</th>\n",
       "      <th>fraccionamiento</th>\n",
       "    </tr>\n",
       "  </thead>\n",
       "  <tbody>\n",
       "    <tr>\n",
       "      <th>0</th>\n",
       "      <td>00003f36588d54059d46b91978c6333f</td>\n",
       "      <td>2021-06-22</td>\n",
       "      <td>59.444550</td>\n",
       "      <td>59.444550</td>\n",
       "      <td>1</td>\n",
       "      <td>False</td>\n",
       "      <td>0.016822</td>\n",
       "      <td>0</td>\n",
       "      <td>0</td>\n",
       "    </tr>\n",
       "    <tr>\n",
       "      <th>1</th>\n",
       "      <td>000061714f1bd279c9dbeeabe29fcd01</td>\n",
       "      <td>2021-06-12</td>\n",
       "      <td>594.445501</td>\n",
       "      <td>594.445501</td>\n",
       "      <td>1</td>\n",
       "      <td>False</td>\n",
       "      <td>0.001682</td>\n",
       "      <td>0</td>\n",
       "      <td>0</td>\n",
       "    </tr>\n",
       "    <tr>\n",
       "      <th>2</th>\n",
       "      <td>00008e655349530a90b26b869f63f9a2</td>\n",
       "      <td>2021-06-12</td>\n",
       "      <td>356.667301</td>\n",
       "      <td>356.667301</td>\n",
       "      <td>1</td>\n",
       "      <td>False</td>\n",
       "      <td>0.002804</td>\n",
       "      <td>0</td>\n",
       "      <td>0</td>\n",
       "    </tr>\n",
       "    <tr>\n",
       "      <th>3</th>\n",
       "      <td>00008e655349530a90b26b869f63f9a2</td>\n",
       "      <td>2021-06-18</td>\n",
       "      <td>237.778200</td>\n",
       "      <td>237.778200</td>\n",
       "      <td>1</td>\n",
       "      <td>False</td>\n",
       "      <td>0.004206</td>\n",
       "      <td>0</td>\n",
       "      <td>0</td>\n",
       "    </tr>\n",
       "    <tr>\n",
       "      <th>4</th>\n",
       "      <td>000145c89e3faae99d09731414395e5a</td>\n",
       "      <td>2021-06-12</td>\n",
       "      <td>118.889100</td>\n",
       "      <td>118.889100</td>\n",
       "      <td>1</td>\n",
       "      <td>False</td>\n",
       "      <td>0.008411</td>\n",
       "      <td>0</td>\n",
       "      <td>0</td>\n",
       "    </tr>\n",
       "  </tbody>\n",
       "</table>\n",
       "</div>"
      ],
      "text/plain": [
       "                     account_number transaction_hour  \\\n",
       "0  00003f36588d54059d46b91978c6333f       2021-06-22   \n",
       "1  000061714f1bd279c9dbeeabe29fcd01       2021-06-12   \n",
       "2  00008e655349530a90b26b869f63f9a2       2021-06-12   \n",
       "3  00008e655349530a90b26b869f63f9a2       2021-06-18   \n",
       "4  000145c89e3faae99d09731414395e5a       2021-06-12   \n",
       "\n",
       "   total_transaction_amount  median_transaction_amount  transaction_count  \\\n",
       "0                 59.444550                  59.444550                  1   \n",
       "1                594.445501                 594.445501                  1   \n",
       "2                356.667301                 356.667301                  1   \n",
       "3                237.778200                 237.778200                  1   \n",
       "4                118.889100                 118.889100                  1   \n",
       "\n",
       "   suspicious  transaction_to_amount_ratio  anomaly  fraccionamiento  \n",
       "0       False                     0.016822        0                0  \n",
       "1       False                     0.001682        0                0  \n",
       "2       False                     0.002804        0                0  \n",
       "3       False                     0.004206        0                0  \n",
       "4       False                     0.008411        0                0  "
      ]
     },
     "execution_count": 114,
     "metadata": {},
     "output_type": "execute_result"
    }
   ],
   "source": [
    "# Calcular una nueva característica que representa la \"frecuencia de transacciones por  mediana de monto\"\n",
    "grouped_df['transaction_to_amount_ratio'] = grouped_df['transaction_count'] / grouped_df['median_transaction_amount']\n",
    "grouped_df.head()"
   ]
  },
  {
   "cell_type": "markdown",
   "metadata": {},
   "source": [
    "### Modelamiento"
   ]
  },
  {
   "cell_type": "code",
   "execution_count": 115,
   "metadata": {},
   "outputs": [
    {
     "data": {
      "text/html": [
       "<div>\n",
       "<style scoped>\n",
       "    .dataframe tbody tr th:only-of-type {\n",
       "        vertical-align: middle;\n",
       "    }\n",
       "\n",
       "    .dataframe tbody tr th {\n",
       "        vertical-align: top;\n",
       "    }\n",
       "\n",
       "    .dataframe thead th {\n",
       "        text-align: right;\n",
       "    }\n",
       "</style>\n",
       "<table border=\"1\" class=\"dataframe\">\n",
       "  <thead>\n",
       "    <tr style=\"text-align: right;\">\n",
       "      <th></th>\n",
       "      <th>account_number</th>\n",
       "      <th>transaction_hour</th>\n",
       "      <th>total_transaction_amount</th>\n",
       "      <th>median_transaction_amount</th>\n",
       "      <th>transaction_count</th>\n",
       "      <th>suspicious</th>\n",
       "      <th>transaction_to_amount_ratio</th>\n",
       "      <th>anomaly</th>\n",
       "      <th>fraccionamiento</th>\n",
       "    </tr>\n",
       "  </thead>\n",
       "  <tbody>\n",
       "    <tr>\n",
       "      <th>0</th>\n",
       "      <td>00003f36588d54059d46b91978c6333f</td>\n",
       "      <td>2021-06-22</td>\n",
       "      <td>59.444550</td>\n",
       "      <td>59.444550</td>\n",
       "      <td>1</td>\n",
       "      <td>False</td>\n",
       "      <td>0.016822</td>\n",
       "      <td>0</td>\n",
       "      <td>0</td>\n",
       "    </tr>\n",
       "    <tr>\n",
       "      <th>1</th>\n",
       "      <td>000061714f1bd279c9dbeeabe29fcd01</td>\n",
       "      <td>2021-06-12</td>\n",
       "      <td>594.445501</td>\n",
       "      <td>594.445501</td>\n",
       "      <td>1</td>\n",
       "      <td>False</td>\n",
       "      <td>0.001682</td>\n",
       "      <td>0</td>\n",
       "      <td>0</td>\n",
       "    </tr>\n",
       "    <tr>\n",
       "      <th>2</th>\n",
       "      <td>00008e655349530a90b26b869f63f9a2</td>\n",
       "      <td>2021-06-12</td>\n",
       "      <td>356.667301</td>\n",
       "      <td>356.667301</td>\n",
       "      <td>1</td>\n",
       "      <td>False</td>\n",
       "      <td>0.002804</td>\n",
       "      <td>0</td>\n",
       "      <td>0</td>\n",
       "    </tr>\n",
       "    <tr>\n",
       "      <th>3</th>\n",
       "      <td>00008e655349530a90b26b869f63f9a2</td>\n",
       "      <td>2021-06-18</td>\n",
       "      <td>237.778200</td>\n",
       "      <td>237.778200</td>\n",
       "      <td>1</td>\n",
       "      <td>False</td>\n",
       "      <td>0.004206</td>\n",
       "      <td>0</td>\n",
       "      <td>0</td>\n",
       "    </tr>\n",
       "    <tr>\n",
       "      <th>4</th>\n",
       "      <td>000145c89e3faae99d09731414395e5a</td>\n",
       "      <td>2021-06-12</td>\n",
       "      <td>118.889100</td>\n",
       "      <td>118.889100</td>\n",
       "      <td>1</td>\n",
       "      <td>False</td>\n",
       "      <td>0.008411</td>\n",
       "      <td>0</td>\n",
       "      <td>0</td>\n",
       "    </tr>\n",
       "  </tbody>\n",
       "</table>\n",
       "</div>"
      ],
      "text/plain": [
       "                     account_number transaction_hour  \\\n",
       "0  00003f36588d54059d46b91978c6333f       2021-06-22   \n",
       "1  000061714f1bd279c9dbeeabe29fcd01       2021-06-12   \n",
       "2  00008e655349530a90b26b869f63f9a2       2021-06-12   \n",
       "3  00008e655349530a90b26b869f63f9a2       2021-06-18   \n",
       "4  000145c89e3faae99d09731414395e5a       2021-06-12   \n",
       "\n",
       "   total_transaction_amount  median_transaction_amount  transaction_count  \\\n",
       "0                 59.444550                  59.444550                  1   \n",
       "1                594.445501                 594.445501                  1   \n",
       "2                356.667301                 356.667301                  1   \n",
       "3                237.778200                 237.778200                  1   \n",
       "4                118.889100                 118.889100                  1   \n",
       "\n",
       "   suspicious  transaction_to_amount_ratio  anomaly  fraccionamiento  \n",
       "0       False                     0.016822        0                0  \n",
       "1       False                     0.001682        0                0  \n",
       "2       False                     0.002804        0                0  \n",
       "3       False                     0.004206        0                0  \n",
       "4       False                     0.008411        0                0  "
      ]
     },
     "execution_count": 115,
     "metadata": {},
     "output_type": "execute_result"
    }
   ],
   "source": [
    "from sklearn.ensemble import IsolationForest\n",
    "\n",
    "# Entrenamos el modelo con las características relevantes\n",
    "model = IsolationForest(contamination=0.005)  # Ajusta 'contamination' según la tasa esperada de anomalías\n",
    "model.fit(grouped_df[[ 'transaction_count', 'transaction_to_amount_ratio']])\n",
    "\n",
    "# Predecir las anomalías\n",
    "grouped_df['anomaly'] = model.predict(grouped_df[[ 'transaction_count', 'transaction_to_amount_ratio']])\n",
    "grouped_df['anomaly'] = grouped_df['anomaly'].apply(lambda x: 1 if x == -1 else 0)  # Convertir anomalías a 1\n",
    "grouped_df.head()"
   ]
  },
  {
   "cell_type": "markdown",
   "metadata": {},
   "source": [
    "\n",
    "Ya contamos con dos modelos: uno basado en un método heurístico, que mediante un ajuste de reglas permite identificar cuentas con transacciones sospechosas, y otro basado en un modelo de *Isolation Forest*, que identifica anomalías en las transacciones. Al combinar estos dos enfoques, podemos concluir que si una transacción es tanto sospechosa como anómala, existe una alta probabilidad de que esté relacionada con una **mala práctica transaccional**.\n"
   ]
  },
  {
   "cell_type": "code",
   "execution_count": 116,
   "metadata": {},
   "outputs": [],
   "source": [
    "# Crear la columna 'fraccionamiento' basada en las condiciones\n",
    "grouped_df['fraccionamiento'] = ((grouped_df['anomaly'] == 1) & (grouped_df['suspicious'] == True)).astype(int)"
   ]
  },
  {
   "cell_type": "code",
   "execution_count": 117,
   "metadata": {},
   "outputs": [
    {
     "data": {
      "text/html": [
       "<div>\n",
       "<style scoped>\n",
       "    .dataframe tbody tr th:only-of-type {\n",
       "        vertical-align: middle;\n",
       "    }\n",
       "\n",
       "    .dataframe tbody tr th {\n",
       "        vertical-align: top;\n",
       "    }\n",
       "\n",
       "    .dataframe thead th {\n",
       "        text-align: right;\n",
       "    }\n",
       "</style>\n",
       "<table border=\"1\" class=\"dataframe\">\n",
       "  <thead>\n",
       "    <tr style=\"text-align: right;\">\n",
       "      <th></th>\n",
       "      <th>account_number</th>\n",
       "      <th>transaction_hour</th>\n",
       "      <th>total_transaction_amount</th>\n",
       "      <th>median_transaction_amount</th>\n",
       "      <th>transaction_count</th>\n",
       "      <th>suspicious</th>\n",
       "      <th>transaction_to_amount_ratio</th>\n",
       "      <th>anomaly</th>\n",
       "      <th>fraccionamiento</th>\n",
       "    </tr>\n",
       "  </thead>\n",
       "  <tbody>\n",
       "    <tr>\n",
       "      <th>0</th>\n",
       "      <td>00003f36588d54059d46b91978c6333f</td>\n",
       "      <td>2021-06-22</td>\n",
       "      <td>59.444550</td>\n",
       "      <td>59.444550</td>\n",
       "      <td>1</td>\n",
       "      <td>False</td>\n",
       "      <td>0.016822</td>\n",
       "      <td>0</td>\n",
       "      <td>0</td>\n",
       "    </tr>\n",
       "    <tr>\n",
       "      <th>1</th>\n",
       "      <td>000061714f1bd279c9dbeeabe29fcd01</td>\n",
       "      <td>2021-06-12</td>\n",
       "      <td>594.445501</td>\n",
       "      <td>594.445501</td>\n",
       "      <td>1</td>\n",
       "      <td>False</td>\n",
       "      <td>0.001682</td>\n",
       "      <td>0</td>\n",
       "      <td>0</td>\n",
       "    </tr>\n",
       "    <tr>\n",
       "      <th>2</th>\n",
       "      <td>00008e655349530a90b26b869f63f9a2</td>\n",
       "      <td>2021-06-12</td>\n",
       "      <td>356.667301</td>\n",
       "      <td>356.667301</td>\n",
       "      <td>1</td>\n",
       "      <td>False</td>\n",
       "      <td>0.002804</td>\n",
       "      <td>0</td>\n",
       "      <td>0</td>\n",
       "    </tr>\n",
       "    <tr>\n",
       "      <th>3</th>\n",
       "      <td>00008e655349530a90b26b869f63f9a2</td>\n",
       "      <td>2021-06-18</td>\n",
       "      <td>237.778200</td>\n",
       "      <td>237.778200</td>\n",
       "      <td>1</td>\n",
       "      <td>False</td>\n",
       "      <td>0.004206</td>\n",
       "      <td>0</td>\n",
       "      <td>0</td>\n",
       "    </tr>\n",
       "    <tr>\n",
       "      <th>4</th>\n",
       "      <td>000145c89e3faae99d09731414395e5a</td>\n",
       "      <td>2021-06-12</td>\n",
       "      <td>118.889100</td>\n",
       "      <td>118.889100</td>\n",
       "      <td>1</td>\n",
       "      <td>False</td>\n",
       "      <td>0.008411</td>\n",
       "      <td>0</td>\n",
       "      <td>0</td>\n",
       "    </tr>\n",
       "  </tbody>\n",
       "</table>\n",
       "</div>"
      ],
      "text/plain": [
       "                     account_number transaction_hour  \\\n",
       "0  00003f36588d54059d46b91978c6333f       2021-06-22   \n",
       "1  000061714f1bd279c9dbeeabe29fcd01       2021-06-12   \n",
       "2  00008e655349530a90b26b869f63f9a2       2021-06-12   \n",
       "3  00008e655349530a90b26b869f63f9a2       2021-06-18   \n",
       "4  000145c89e3faae99d09731414395e5a       2021-06-12   \n",
       "\n",
       "   total_transaction_amount  median_transaction_amount  transaction_count  \\\n",
       "0                 59.444550                  59.444550                  1   \n",
       "1                594.445501                 594.445501                  1   \n",
       "2                356.667301                 356.667301                  1   \n",
       "3                237.778200                 237.778200                  1   \n",
       "4                118.889100                 118.889100                  1   \n",
       "\n",
       "   suspicious  transaction_to_amount_ratio  anomaly  fraccionamiento  \n",
       "0       False                     0.016822        0                0  \n",
       "1       False                     0.001682        0                0  \n",
       "2       False                     0.002804        0                0  \n",
       "3       False                     0.004206        0                0  \n",
       "4       False                     0.008411        0                0  "
      ]
     },
     "execution_count": 117,
     "metadata": {},
     "output_type": "execute_result"
    }
   ],
   "source": [
    "grouped_df.head()"
   ]
  },
  {
   "cell_type": "code",
   "execution_count": 118,
   "metadata": {},
   "outputs": [
    {
     "data": {
      "text/html": [
       "<div>\n",
       "<style scoped>\n",
       "    .dataframe tbody tr th:only-of-type {\n",
       "        vertical-align: middle;\n",
       "    }\n",
       "\n",
       "    .dataframe tbody tr th {\n",
       "        vertical-align: top;\n",
       "    }\n",
       "\n",
       "    .dataframe thead th {\n",
       "        text-align: right;\n",
       "    }\n",
       "</style>\n",
       "<table border=\"1\" class=\"dataframe\">\n",
       "  <thead>\n",
       "    <tr style=\"text-align: right;\">\n",
       "      <th></th>\n",
       "      <th>account_number</th>\n",
       "      <th>transaction_hour</th>\n",
       "      <th>total_transaction_amount</th>\n",
       "      <th>median_transaction_amount</th>\n",
       "      <th>transaction_count</th>\n",
       "      <th>suspicious</th>\n",
       "      <th>transaction_to_amount_ratio</th>\n",
       "      <th>anomaly</th>\n",
       "      <th>fraccionamiento</th>\n",
       "    </tr>\n",
       "  </thead>\n",
       "  <tbody>\n",
       "    <tr>\n",
       "      <th>1453</th>\n",
       "      <td>011bc487106bca7b28c95f10c4708ab2</td>\n",
       "      <td>2021-06-13</td>\n",
       "      <td>582.556591</td>\n",
       "      <td>59.444550</td>\n",
       "      <td>5</td>\n",
       "      <td>True</td>\n",
       "      <td>0.084112</td>\n",
       "      <td>1</td>\n",
       "      <td>1</td>\n",
       "    </tr>\n",
       "    <tr>\n",
       "      <th>1688</th>\n",
       "      <td>014777ec697863948132cc66adcd9d82</td>\n",
       "      <td>2021-06-17</td>\n",
       "      <td>832.223702</td>\n",
       "      <td>166.444740</td>\n",
       "      <td>5</td>\n",
       "      <td>True</td>\n",
       "      <td>0.030040</td>\n",
       "      <td>1</td>\n",
       "      <td>1</td>\n",
       "    </tr>\n",
       "    <tr>\n",
       "      <th>5119</th>\n",
       "      <td>03ca69e14f9cecf545990123631f6c34</td>\n",
       "      <td>2021-06-11</td>\n",
       "      <td>796.556972</td>\n",
       "      <td>202.111470</td>\n",
       "      <td>4</td>\n",
       "      <td>True</td>\n",
       "      <td>0.019791</td>\n",
       "      <td>1</td>\n",
       "      <td>1</td>\n",
       "    </tr>\n",
       "    <tr>\n",
       "      <th>5783</th>\n",
       "      <td>044b7ed2bb52454330ae8a1e7279723a</td>\n",
       "      <td>2021-06-20</td>\n",
       "      <td>939.223892</td>\n",
       "      <td>59.444550</td>\n",
       "      <td>5</td>\n",
       "      <td>True</td>\n",
       "      <td>0.084112</td>\n",
       "      <td>1</td>\n",
       "      <td>1</td>\n",
       "    </tr>\n",
       "    <tr>\n",
       "      <th>5861</th>\n",
       "      <td>045fb75ce6f429492e3be4e66c776382</td>\n",
       "      <td>2021-06-13</td>\n",
       "      <td>796.556972</td>\n",
       "      <td>89.166825</td>\n",
       "      <td>4</td>\n",
       "      <td>True</td>\n",
       "      <td>0.044860</td>\n",
       "      <td>1</td>\n",
       "      <td>1</td>\n",
       "    </tr>\n",
       "    <tr>\n",
       "      <th>...</th>\n",
       "      <td>...</td>\n",
       "      <td>...</td>\n",
       "      <td>...</td>\n",
       "      <td>...</td>\n",
       "      <td>...</td>\n",
       "      <td>...</td>\n",
       "      <td>...</td>\n",
       "      <td>...</td>\n",
       "      <td>...</td>\n",
       "    </tr>\n",
       "    <tr>\n",
       "      <th>350648</th>\n",
       "      <td>fe992293509bead0c465f101a5f4cd38</td>\n",
       "      <td>2021-06-17</td>\n",
       "      <td>237.778200</td>\n",
       "      <td>59.444550</td>\n",
       "      <td>4</td>\n",
       "      <td>True</td>\n",
       "      <td>0.067290</td>\n",
       "      <td>1</td>\n",
       "      <td>1</td>\n",
       "    </tr>\n",
       "    <tr>\n",
       "      <th>350662</th>\n",
       "      <td>fe9b0bd96668df66dfb086bf47e0a56c</td>\n",
       "      <td>2021-06-19</td>\n",
       "      <td>582.556591</td>\n",
       "      <td>59.444550</td>\n",
       "      <td>5</td>\n",
       "      <td>True</td>\n",
       "      <td>0.084112</td>\n",
       "      <td>1</td>\n",
       "      <td>1</td>\n",
       "    </tr>\n",
       "    <tr>\n",
       "      <th>350765</th>\n",
       "      <td>feb0ccea743281dec8ee3bf5ea76c86f</td>\n",
       "      <td>2021-06-20</td>\n",
       "      <td>844.112612</td>\n",
       "      <td>160.500285</td>\n",
       "      <td>4</td>\n",
       "      <td>True</td>\n",
       "      <td>0.024922</td>\n",
       "      <td>1</td>\n",
       "      <td>1</td>\n",
       "    </tr>\n",
       "    <tr>\n",
       "      <th>352087</th>\n",
       "      <td>ffb224f6c4c190c486eda3b888c3e118</td>\n",
       "      <td>2021-06-11</td>\n",
       "      <td>796.556972</td>\n",
       "      <td>89.166825</td>\n",
       "      <td>4</td>\n",
       "      <td>True</td>\n",
       "      <td>0.044860</td>\n",
       "      <td>1</td>\n",
       "      <td>1</td>\n",
       "    </tr>\n",
       "    <tr>\n",
       "      <th>352343</th>\n",
       "      <td>ffe3ae32a4fef1373acc087b9dff25aa</td>\n",
       "      <td>2021-06-13</td>\n",
       "      <td>356.667301</td>\n",
       "      <td>71.333460</td>\n",
       "      <td>5</td>\n",
       "      <td>True</td>\n",
       "      <td>0.070093</td>\n",
       "      <td>1</td>\n",
       "      <td>1</td>\n",
       "    </tr>\n",
       "  </tbody>\n",
       "</table>\n",
       "<p>281 rows × 9 columns</p>\n",
       "</div>"
      ],
      "text/plain": [
       "                          account_number transaction_hour  \\\n",
       "1453    011bc487106bca7b28c95f10c4708ab2       2021-06-13   \n",
       "1688    014777ec697863948132cc66adcd9d82       2021-06-17   \n",
       "5119    03ca69e14f9cecf545990123631f6c34       2021-06-11   \n",
       "5783    044b7ed2bb52454330ae8a1e7279723a       2021-06-20   \n",
       "5861    045fb75ce6f429492e3be4e66c776382       2021-06-13   \n",
       "...                                  ...              ...   \n",
       "350648  fe992293509bead0c465f101a5f4cd38       2021-06-17   \n",
       "350662  fe9b0bd96668df66dfb086bf47e0a56c       2021-06-19   \n",
       "350765  feb0ccea743281dec8ee3bf5ea76c86f       2021-06-20   \n",
       "352087  ffb224f6c4c190c486eda3b888c3e118       2021-06-11   \n",
       "352343  ffe3ae32a4fef1373acc087b9dff25aa       2021-06-13   \n",
       "\n",
       "        total_transaction_amount  median_transaction_amount  \\\n",
       "1453                  582.556591                  59.444550   \n",
       "1688                  832.223702                 166.444740   \n",
       "5119                  796.556972                 202.111470   \n",
       "5783                  939.223892                  59.444550   \n",
       "5861                  796.556972                  89.166825   \n",
       "...                          ...                        ...   \n",
       "350648                237.778200                  59.444550   \n",
       "350662                582.556591                  59.444550   \n",
       "350765                844.112612                 160.500285   \n",
       "352087                796.556972                  89.166825   \n",
       "352343                356.667301                  71.333460   \n",
       "\n",
       "        transaction_count  suspicious  transaction_to_amount_ratio  anomaly  \\\n",
       "1453                    5        True                     0.084112        1   \n",
       "1688                    5        True                     0.030040        1   \n",
       "5119                    4        True                     0.019791        1   \n",
       "5783                    5        True                     0.084112        1   \n",
       "5861                    4        True                     0.044860        1   \n",
       "...                   ...         ...                          ...      ...   \n",
       "350648                  4        True                     0.067290        1   \n",
       "350662                  5        True                     0.084112        1   \n",
       "350765                  4        True                     0.024922        1   \n",
       "352087                  4        True                     0.044860        1   \n",
       "352343                  5        True                     0.070093        1   \n",
       "\n",
       "        fraccionamiento  \n",
       "1453                  1  \n",
       "1688                  1  \n",
       "5119                  1  \n",
       "5783                  1  \n",
       "5861                  1  \n",
       "...                 ...  \n",
       "350648                1  \n",
       "350662                1  \n",
       "350765                1  \n",
       "352087                1  \n",
       "352343                1  \n",
       "\n",
       "[281 rows x 9 columns]"
      ]
     },
     "execution_count": 118,
     "metadata": {},
     "output_type": "execute_result"
    }
   ],
   "source": [
    "grouped_df[grouped_df['fraccionamiento'] == 1]"
   ]
  },
  {
   "cell_type": "code",
   "execution_count": 119,
   "metadata": {},
   "outputs": [],
   "source": [
    "# Filtrar clientes sospechosos\n",
    "suspicious_clients = grouped_df[grouped_df['fraccionamiento'] == 1]['fraccionamiento'].unique()\n"
   ]
  },
  {
   "cell_type": "code",
   "execution_count": 121,
   "metadata": {},
   "outputs": [
    {
     "data": {
      "image/png": "[encoded data removed]",
      "text/plain": [
       "<Figure size 600x400 with 1 Axes>"
      ]
     },
     "metadata": {},
     "output_type": "display_data"
    }
   ],
   "source": [
    "import matplotlib.pyplot as plt\n",
    "\n",
    "# Crear la gráfica\n",
    "plt.figure(figsize=(6, 4))\n",
    "scatter = plt.scatter(\n",
    "    grouped_df['transaction_count'], \n",
    "    grouped_df['transaction_to_amount_ratio'], \n",
    "    c=grouped_df['fraccionamiento'], \n",
    "    cmap='coolwarm', \n",
    "    alpha=0.7,\n",
    "    label='fraccionamiento'\n",
    ")\n",
    "\n",
    "# Agregar etiquetas y título\n",
    "plt.xlabel('Número de Transacciones')\n",
    "plt.ylabel('Frecuencia de transacciones por  mediana de monto')\n",
    "plt.title('Detección de Fraccionamiento en Transacciones')\n",
    "\n",
    "# Crear una leyenda personalizada\n",
    "legend_labels = {0: \"Normal\", 1: \"Fraccionamiento\"}\n",
    "handles = [\n",
    "    plt.Line2D([0], [0], marker='o', color='w', markerfacecolor='blue', markersize=10, label=legend_labels[0]),\n",
    "    plt.Line2D([0], [0], marker='o', color='w', markerfacecolor='red', markersize=10, label=legend_labels[1]),\n",
    "]\n",
    "plt.legend(handles=handles, title=\"Tipo de Transacción\")\n",
    "\n",
    "# Mostrar la gráfica\n",
    "plt.show()\n"
   ]
  },
  {
   "cell_type": "code",
   "execution_count": 123,
   "metadata": {},
   "outputs": [
    {
     "data": {
      "image/png": "[encoded data removed]",
      "text/plain": [
       "<Figure size 600x400 with 1 Axes>"
      ]
     },
     "metadata": {},
     "output_type": "display_data"
    }
   ],
   "source": [
    "plt.figure(figsize=(6, 4))\n",
    "scatter = plt.scatter(\n",
    "    grouped_df['median_transaction_amount'], \n",
    "    grouped_df['transaction_to_amount_ratio'], \n",
    "    c=grouped_df['fraccionamiento'], \n",
    "    cmap='coolwarm', \n",
    "    alpha=0.7,\n",
    "    label='fraccionamiento'\n",
    ")\n",
    "\n",
    "# Agregar etiquetas y título\n",
    "plt.xlabel('Media del monto de transacciones')\n",
    "plt.ylabel('Frecuencia de transacciones por  mediana de monto')\n",
    "plt.title('Detección de Fraccionamiento en Transacciones')\n",
    "\n",
    "# Crear una leyenda personalizada\n",
    "legend_labels = {0: \"Normal\", 1: \"Fraccionamiento\"}\n",
    "handles = [\n",
    "    plt.Line2D([0], [0], marker='o', color='w', markerfacecolor='blue', markersize=10, label=legend_labels[0]),\n",
    "    plt.Line2D([0], [0], marker='o', color='w', markerfacecolor='red', markersize=10, label=legend_labels[1]),\n",
    "]\n",
    "plt.legend(handles=handles, title=\"Tipo de Transacción\")\n",
    "\n",
    "# Mostrar la gráfica\n",
    "plt.show()"
   ]
  },
  {
   "cell_type": "markdown",
   "metadata": {},
   "source": [
    "#### Justificación del modelo seleccionado: **Modelo combinado**\n",
    "\n",
    "**Método Heurístico**: Utilizamos reglas heurísticas basadas en estadísticas descriptivas para detectar transacciones inusuales. Este enfoque es directo y rápido para implementaciones iniciales.\n",
    "\n",
    "**Modelos de Machine Learning:** Modelos no supervisados como Isolation Forest identifican patrones de transacciones anómalas sin etiquetado previo. Este método es efectivo cuando se trata de detectar comportamientos atípicos en grandes conjuntos de datos.\n",
    "\n",
    "**Modelo combinado:**  La combinación de heurísticas y machine learning proporciona un enfoque robusto, donde las reglas de negocio y los modelos estadísticos trabajan en conjunto para maximizar la detección de anomalías y minimizar falsos positivos."
   ]
  },
  {
   "cell_type": "markdown",
   "metadata": {},
   "source": [
    "### 2. Frecuencia de Actualización de los Datos\n",
    "\n",
    "- Diaria: Actualizar los datos y el modelo cada 24 horas. Esto asegura una detección oportuna de comportamientos sospechosos y permite a los analistas revisar las alertas y tomar acciones preventivas rápidamente.\n",
    "\n",
    "Dado que las malas prácticas transaccionales a menudo se detectan en un marco de tiempo de 24 horas, esta frecuencia permite identificar patrones sospechosos dentro de este período sin sobrecargar los recursos de procesamiento."
   ]
  },
  {
   "cell_type": "markdown",
   "metadata": {},
   "source": [
    "### 3. Diseñar una Arquitectura Ideal y Recursos Necesarios \n",
    "\n",
    "**Arquitectura Ideal:**\n",
    "\n",
    "| Componente         | Descripción                                                                 |\n",
    "|--------------------|-----------------------------------------------------------------------------|\n",
    "| Ingesta de Datos   | Herramientas ETL, APIs, conectores de bases de datos                        |\n",
    "| Almacenamiento     | Bases de datos SQL (por ejemplo, PostgreSQL, MySQL) o NoSQL (MongoDB)       |\n",
    "| Preprocesamiento   | Servicios de procesamiento de datos como Apache Spark, pandas en Python     |\n",
    "| Modelado           | Bibliotecas de machine learning como scikit-learn                           |\n",
    "| Visualización      | Herramientas de BI como Tableau, Power BI o dashboards personalizados       |\n",
    "| Despliegue         | Servidores de aplicaciones o servicios en la nube como AWS, Azure           |\n",
    "\n",
    "\n"
   ]
  }
 ],
 "metadata": {
  "kernelspec": {
   "display_name": "Python 3",
   "language": "python",
   "name": "python3"
  },
  "language_info": {
   "codemirror_mode": {
    "name": "ipython",
    "version": 3
   },
   "file_extension": ".py",
   "mimetype": "text/x-python",
   "name": "python",
   "nbconvert_exporter": "python",
   "pygments_lexer": "ipython3",
   "version": "3.11.9"
  }
 },
 "nbformat": 4,
 "nbformat_minor": 2
}
